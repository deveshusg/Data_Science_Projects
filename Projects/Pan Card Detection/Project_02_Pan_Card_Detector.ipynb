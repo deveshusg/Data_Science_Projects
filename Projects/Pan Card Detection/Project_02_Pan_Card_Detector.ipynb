{
 "cells": [
  {
   "cell_type": "code",
   "execution_count": 1,
   "id": "704aeb18",
   "metadata": {},
   "outputs": [],
   "source": [
    "#pip install scikit-image\n"
   ]
  },
  {
   "cell_type": "code",
   "execution_count": 2,
   "id": "66d309c0",
   "metadata": {},
   "outputs": [],
   "source": [
    "#pip install imutils"
   ]
  },
  {
   "cell_type": "code",
   "execution_count": 3,
   "id": "0619fc87",
   "metadata": {},
   "outputs": [],
   "source": [
    "#pip install opencv-python"
   ]
  },
  {
   "cell_type": "code",
   "execution_count": 4,
   "id": "200fe68a",
   "metadata": {},
   "outputs": [],
   "source": [
    "#pip install opencv-python2"
   ]
  },
  {
   "cell_type": "code",
   "execution_count": 5,
   "id": "553cb985",
   "metadata": {},
   "outputs": [],
   "source": [
    "#pip install Pillow"
   ]
  },
  {
   "cell_type": "code",
   "execution_count": 6,
   "id": "22d13db6",
   "metadata": {},
   "outputs": [],
   "source": [
    "#pip install requests"
   ]
  },
  {
   "cell_type": "code",
   "execution_count": 2,
   "id": "2a18d498",
   "metadata": {},
   "outputs": [],
   "source": [
    "from skimage.metrics import structural_similarity\n",
    "import imutils\n",
    "import cv2\n",
    "from PIL import Image\n",
    "import requests"
   ]
  },
  {
   "cell_type": "code",
   "execution_count": 3,
   "id": "e0d06907",
   "metadata": {},
   "outputs": [],
   "source": [
    "original =Image.open(requests.get('https://www.thestatesman.com/wp-content/uploads/2019/07/pan-card.jpg',stream=True).raw)\n",
    "tampered =Image.open(requests.get('https://assets1.cleartax-cdn.com/s/img/20170526124335/Pan4.png',stream=True).raw)"
   ]
  },
  {
   "cell_type": "code",
   "execution_count": 6,
   "id": "5033cb43",
   "metadata": {},
   "outputs": [
    {
     "name": "stdout",
     "output_type": "stream",
     "text": [
      "Original image format:  JPEG\n",
      "Tampered image format:  PNG\n",
      "original image size:  (1200, 800)\n",
      "tampered image size:  (282, 179)\n"
     ]
    }
   ],
   "source": [
    "print(\"Original image format: \", original.format)\n",
    "print(\"Tampered image format: \", tampered.format)\n",
    "\n",
    "print(\"original image size: \", original.size)\n",
    "print(\"tampered image size: \", tampered.size)"
   ]
  },
  {
   "cell_type": "code",
   "execution_count": 7,
   "id": "9604d825",
   "metadata": {},
   "outputs": [
    {
     "name": "stdout",
     "output_type": "stream",
     "text": [
      "(250, 160)\n",
      "(250, 160)\n"
     ]
    }
   ],
   "source": [
    "original=original.resize((250,160))\n",
    "print(original.size)\n",
    "original.save('pan_card_tampering/image/original.png')\n",
    "\n",
    "tampered=tampered.resize((250,160))\n",
    "print(tampered.size)\n",
    "tampered.save('pan_card_tampering/image/tampered.png')"
   ]
  },
  {
   "cell_type": "code",
   "execution_count": 10,
   "id": "d597384c",
   "metadata": {},
   "outputs": [],
   "source": [
    "original=cv2.imread('pan_card_tampering/image/original.png')\n",
    "tampered=cv2.imread('pan_card_tampering/image/tampered.png')"
   ]
  },
  {
   "cell_type": "code",
   "execution_count": 11,
   "id": "4e1d9fa6",
   "metadata": {},
   "outputs": [],
   "source": [
    "original_gray=cv2.cvtColor(original,cv2.COLOR_BGR2GRAY)\n",
    "tampered_gray=cv2.cvtColor(tampered,cv2.COLOR_BGR2GRAY)"
   ]
  },
  {
   "cell_type": "code",
   "execution_count": 12,
   "id": "a69fdb2f",
   "metadata": {},
   "outputs": [
    {
     "name": "stdout",
     "output_type": "stream",
     "text": [
      "SSIM: 0.31678790332739426\n"
     ]
    }
   ],
   "source": [
    "(score, diff)= structural_similarity(original_gray, tampered_gray, full=True)\n",
    "diff= (diff * 255).astype(\"uint8\")\n",
    "print(\"SSIM: {}\".format(score))"
   ]
  },
  {
   "cell_type": "code",
   "execution_count": 13,
   "id": "932b06b2",
   "metadata": {},
   "outputs": [],
   "source": [
    "thresh= cv2.threshold(diff, 0, 255, cv2.THRESH_BINARY_INV | cv2.THRESH_OTSU)[1]\n",
    "cnts= cv2.findContours(thresh.copy(), cv2.RETR_EXTERNAL, cv2.CHAIN_APPROX_SIMPLE)\n",
    "cnts= imutils.grab_contours(cnts)"
   ]
  },
  {
   "cell_type": "code",
   "execution_count": null,
   "id": "b70c08ab",
   "metadata": {},
   "outputs": [],
   "source": []
  }
 ],
 "metadata": {
  "kernelspec": {
   "display_name": "Python 3 (ipykernel)",
   "language": "python",
   "name": "python3"
  },
  "language_info": {
   "codemirror_mode": {
    "name": "ipython",
    "version": 3
   },
   "file_extension": ".py",
   "mimetype": "text/x-python",
   "name": "python",
   "nbconvert_exporter": "python",
   "pygments_lexer": "ipython3",
   "version": "3.9.13"
  }
 },
 "nbformat": 4,
 "nbformat_minor": 5
}
