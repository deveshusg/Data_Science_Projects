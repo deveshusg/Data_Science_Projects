{
 "cells": [
  {
   "cell_type": "code",
   "execution_count": null,
   "id": "8fc2398a",
   "metadata": {},
   "outputs": [],
   "source": [
    "# Table: Customers\n",
    "\n",
    "# +-------------+---------+\n",
    "# | Column Name | Type    |\n",
    "# +-------------+---------+\n",
    "# | id          | int     |\n",
    "# | name        | varchar |\n",
    "# +-------------+---------+\n",
    "# id is the primary key (column with unique values) for this table.\n",
    "# Each row of this table indicates the ID and name of a customer.\n",
    " \n",
    "\n",
    "# Table: Orders\n",
    "\n",
    "# +-------------+------+\n",
    "# | Column Name | Type |\n",
    "# +-------------+------+\n",
    "# | id          | int  |\n",
    "# | customerId  | int  |\n",
    "# +-------------+------+\n",
    "# id is the primary key (column with unique values) for this table.\n",
    "# customerId is a foreign key (reference columns) of the ID from the Customers table.\n",
    "# Each row of this table indicates the ID of an order and the ID of the customer who ordered it.\n",
    " \n",
    "\n",
    "# Write a solution to find all customers who never order anything.\n",
    "\n",
    "# Return the result table in any order.\n",
    "\n",
    "# The result format is in the following example.\n",
    "\n",
    " \n",
    "\n",
    "# Example 1:\n",
    "\n",
    "# Input: \n",
    "# Customers table:\n",
    "# +----+-------+\n",
    "# | id | name  |\n",
    "# +----+-------+\n",
    "# | 1  | Joe   |\n",
    "# | 2  | Henry |\n",
    "# | 3  | Sam   |\n",
    "# | 4  | Max   |\n",
    "# +----+-------+\n",
    "# Orders table:\n",
    "# +----+------------+\n",
    "# | id | customerId |\n",
    "# +----+------------+\n",
    "# | 1  | 3          |\n",
    "# | 2  | 1          |\n",
    "# +----+------------+\n",
    "# Output: \n",
    "# +-----------+\n",
    "# | Customers |\n",
    "# +-----------+\n",
    "# | Henry     |\n",
    "# | Max       |\n",
    "# +-----------+"
   ]
  },
  {
   "cell_type": "code",
   "execution_count": 1,
   "id": "3a480281",
   "metadata": {},
   "outputs": [],
   "source": [
    "import pandas as pd"
   ]
  },
  {
   "cell_type": "code",
   "execution_count": 18,
   "id": "49314c6a",
   "metadata": {},
   "outputs": [
    {
     "data": {
      "text/html": [
       "<div>\n",
       "<style scoped>\n",
       "    .dataframe tbody tr th:only-of-type {\n",
       "        vertical-align: middle;\n",
       "    }\n",
       "\n",
       "    .dataframe tbody tr th {\n",
       "        vertical-align: top;\n",
       "    }\n",
       "\n",
       "    .dataframe thead th {\n",
       "        text-align: right;\n",
       "    }\n",
       "</style>\n",
       "<table border=\"1\" class=\"dataframe\">\n",
       "  <thead>\n",
       "    <tr style=\"text-align: right;\">\n",
       "      <th></th>\n",
       "      <th>id</th>\n",
       "      <th>name</th>\n",
       "    </tr>\n",
       "  </thead>\n",
       "  <tbody>\n",
       "    <tr>\n",
       "      <th>0</th>\n",
       "      <td>1</td>\n",
       "      <td>Joe</td>\n",
       "    </tr>\n",
       "    <tr>\n",
       "      <th>1</th>\n",
       "      <td>2</td>\n",
       "      <td>Henry</td>\n",
       "    </tr>\n",
       "    <tr>\n",
       "      <th>2</th>\n",
       "      <td>3</td>\n",
       "      <td>Sam</td>\n",
       "    </tr>\n",
       "    <tr>\n",
       "      <th>3</th>\n",
       "      <td>4</td>\n",
       "      <td>Max</td>\n",
       "    </tr>\n",
       "  </tbody>\n",
       "</table>\n",
       "</div>"
      ],
      "text/plain": [
       "   id   name\n",
       "0   1    Joe\n",
       "1   2  Henry\n",
       "2   3    Sam\n",
       "3   4    Max"
      ]
     },
     "execution_count": 18,
     "metadata": {},
     "output_type": "execute_result"
    }
   ],
   "source": [
    "\n",
    "data=[[1,'Joe'],\n",
    "      [2,'Henry'],\n",
    "      [3,'Sam'],\n",
    "      [4,'Max']]\n",
    "data1=[[1,3],\n",
    "      [2,1]]\n",
    "\n",
    "c=pd.DataFrame(data,columns=['id','name'])\n",
    "o=pd.DataFrame(data1,columns=['id','customerId'])\n",
    "c\n"
   ]
  },
  {
   "cell_type": "code",
   "execution_count": 19,
   "id": "cc46a779",
   "metadata": {},
   "outputs": [
    {
     "data": {
      "text/html": [
       "<div>\n",
       "<style scoped>\n",
       "    .dataframe tbody tr th:only-of-type {\n",
       "        vertical-align: middle;\n",
       "    }\n",
       "\n",
       "    .dataframe tbody tr th {\n",
       "        vertical-align: top;\n",
       "    }\n",
       "\n",
       "    .dataframe thead th {\n",
       "        text-align: right;\n",
       "    }\n",
       "</style>\n",
       "<table border=\"1\" class=\"dataframe\">\n",
       "  <thead>\n",
       "    <tr style=\"text-align: right;\">\n",
       "      <th></th>\n",
       "      <th>id</th>\n",
       "      <th>customerId</th>\n",
       "    </tr>\n",
       "  </thead>\n",
       "  <tbody>\n",
       "    <tr>\n",
       "      <th>0</th>\n",
       "      <td>1</td>\n",
       "      <td>3</td>\n",
       "    </tr>\n",
       "    <tr>\n",
       "      <th>1</th>\n",
       "      <td>2</td>\n",
       "      <td>1</td>\n",
       "    </tr>\n",
       "  </tbody>\n",
       "</table>\n",
       "</div>"
      ],
      "text/plain": [
       "   id  customerId\n",
       "0   1           3\n",
       "1   2           1"
      ]
     },
     "execution_count": 19,
     "metadata": {},
     "output_type": "execute_result"
    }
   ],
   "source": [
    "o"
   ]
  },
  {
   "cell_type": "code",
   "execution_count": 20,
   "id": "71eb3561",
   "metadata": {},
   "outputs": [],
   "source": [
    "def find_customers(customers: pd.DataFrame, orders: pd.DataFrame) -> pd.DataFrame:\n",
    "    for i in customers['id'].index:\n",
    "        if customers['id'][i] in list(orders['customerId']):\n",
    "            customers=customers.drop(i)\n",
    "    customers=customers.drop(columns=['id'])\n",
    "    customers.rename(columns = {'name':'Customers'},inplace=True)\n",
    "    return(customers)"
   ]
  },
  {
   "cell_type": "code",
   "execution_count": 21,
   "id": "99eb4875",
   "metadata": {},
   "outputs": [
    {
     "data": {
      "text/html": [
       "<div>\n",
       "<style scoped>\n",
       "    .dataframe tbody tr th:only-of-type {\n",
       "        vertical-align: middle;\n",
       "    }\n",
       "\n",
       "    .dataframe tbody tr th {\n",
       "        vertical-align: top;\n",
       "    }\n",
       "\n",
       "    .dataframe thead th {\n",
       "        text-align: right;\n",
       "    }\n",
       "</style>\n",
       "<table border=\"1\" class=\"dataframe\">\n",
       "  <thead>\n",
       "    <tr style=\"text-align: right;\">\n",
       "      <th></th>\n",
       "      <th>Customers</th>\n",
       "    </tr>\n",
       "  </thead>\n",
       "  <tbody>\n",
       "    <tr>\n",
       "      <th>1</th>\n",
       "      <td>Henry</td>\n",
       "    </tr>\n",
       "    <tr>\n",
       "      <th>3</th>\n",
       "      <td>Max</td>\n",
       "    </tr>\n",
       "  </tbody>\n",
       "</table>\n",
       "</div>"
      ],
      "text/plain": [
       "  Customers\n",
       "1     Henry\n",
       "3       Max"
      ]
     },
     "execution_count": 21,
     "metadata": {},
     "output_type": "execute_result"
    }
   ],
   "source": [
    "find_customers(c,o)"
   ]
  },
  {
   "cell_type": "code",
   "execution_count": null,
   "id": "d56ba95d",
   "metadata": {},
   "outputs": [],
   "source": []
  }
 ],
 "metadata": {
  "kernelspec": {
   "display_name": "Python 3 (ipykernel)",
   "language": "python",
   "name": "python3"
  },
  "language_info": {
   "codemirror_mode": {
    "name": "ipython",
    "version": 3
   },
   "file_extension": ".py",
   "mimetype": "text/x-python",
   "name": "python",
   "nbconvert_exporter": "python",
   "pygments_lexer": "ipython3",
   "version": "3.9.13"
  }
 },
 "nbformat": 4,
 "nbformat_minor": 5
}
