{
 "cells": [
  {
   "cell_type": "code",
   "execution_count": 1,
   "id": "a062c1fb",
   "metadata": {},
   "outputs": [],
   "source": [
    "import numpy as np"
   ]
  },
  {
   "cell_type": "markdown",
   "id": "bb5b2442",
   "metadata": {},
   "source": [
    "# Nd Arrays"
   ]
  },
  {
   "cell_type": "code",
   "execution_count": 6,
   "id": "cfd33b51",
   "metadata": {},
   "outputs": [
    {
     "data": {
      "text/plain": [
       "array([1, 2, 3])"
      ]
     },
     "execution_count": 6,
     "metadata": {},
     "output_type": "execute_result"
    }
   ],
   "source": [
    "array_a=np.array([1,2,3])\n",
    "array_a"
   ]
  },
  {
   "cell_type": "code",
   "execution_count": 7,
   "id": "fa85f5d4",
   "metadata": {},
   "outputs": [
    {
     "data": {
      "text/plain": [
       "numpy.ndarray"
      ]
     },
     "execution_count": 7,
     "metadata": {},
     "output_type": "execute_result"
    }
   ],
   "source": [
    "type(array_a)"
   ]
  },
  {
   "cell_type": "code",
   "execution_count": 9,
   "id": "1eca5b79",
   "metadata": {},
   "outputs": [
    {
     "data": {
      "text/plain": [
       "(3,)"
      ]
     },
     "execution_count": 9,
     "metadata": {},
     "output_type": "execute_result"
    }
   ],
   "source": [
    "array_a.shape"
   ]
  },
  {
   "cell_type": "code",
   "execution_count": 10,
   "id": "1c9cbf56",
   "metadata": {},
   "outputs": [],
   "source": [
    "array_b=np.array([[7,8,9],[10,11,12]])"
   ]
  },
  {
   "cell_type": "code",
   "execution_count": 11,
   "id": "a2277cd4",
   "metadata": {},
   "outputs": [
    {
     "data": {
      "text/plain": [
       "array([[ 7,  8,  9],\n",
       "       [10, 11, 12]])"
      ]
     },
     "execution_count": 11,
     "metadata": {},
     "output_type": "execute_result"
    }
   ],
   "source": [
    "array_b"
   ]
  },
  {
   "cell_type": "code",
   "execution_count": 12,
   "id": "106e1890",
   "metadata": {},
   "outputs": [
    {
     "data": {
      "text/plain": [
       "numpy.ndarray"
      ]
     },
     "execution_count": 12,
     "metadata": {},
     "output_type": "execute_result"
    }
   ],
   "source": [
    "type(array_b)"
   ]
  },
  {
   "cell_type": "code",
   "execution_count": 13,
   "id": "d289a8c7",
   "metadata": {},
   "outputs": [
    {
     "data": {
      "text/plain": [
       "(2, 3)"
      ]
     },
     "execution_count": 13,
     "metadata": {},
     "output_type": "execute_result"
    }
   ],
   "source": [
    "array_b.shape"
   ]
  },
  {
   "cell_type": "code",
   "execution_count": 14,
   "id": "906818cd",
   "metadata": {},
   "outputs": [
    {
     "data": {
      "text/plain": [
       "6"
      ]
     },
     "execution_count": 14,
     "metadata": {},
     "output_type": "execute_result"
    }
   ],
   "source": [
    "array_b.size"
   ]
  },
  {
   "cell_type": "code",
   "execution_count": 15,
   "id": "164ad2d0",
   "metadata": {},
   "outputs": [],
   "source": [
    "Rows=array_b.shape[0]\n",
    "Columns=array_b.shape[1]"
   ]
  },
  {
   "cell_type": "code",
   "execution_count": 16,
   "id": "cf9fce30",
   "metadata": {},
   "outputs": [
    {
     "data": {
      "text/plain": [
       "2"
      ]
     },
     "execution_count": 16,
     "metadata": {},
     "output_type": "execute_result"
    }
   ],
   "source": [
    "Rows"
   ]
  },
  {
   "cell_type": "code",
   "execution_count": 17,
   "id": "a3029ab2",
   "metadata": {},
   "outputs": [
    {
     "data": {
      "text/plain": [
       "3"
      ]
     },
     "execution_count": 17,
     "metadata": {},
     "output_type": "execute_result"
    }
   ],
   "source": [
    "Columns"
   ]
  },
  {
   "cell_type": "code",
   "execution_count": 18,
   "id": "622b54de",
   "metadata": {},
   "outputs": [],
   "source": [
    "array_c=np.array(13)"
   ]
  },
  {
   "cell_type": "code",
   "execution_count": 19,
   "id": "11ce4eaf",
   "metadata": {},
   "outputs": [
    {
     "data": {
      "text/plain": [
       "numpy.ndarray"
      ]
     },
     "execution_count": 19,
     "metadata": {},
     "output_type": "execute_result"
    }
   ],
   "source": [
    "type(array_c)"
   ]
  },
  {
   "cell_type": "code",
   "execution_count": 20,
   "id": "88652b48",
   "metadata": {},
   "outputs": [
    {
     "name": "stdout",
     "output_type": "stream",
     "text": [
      "13\n"
     ]
    }
   ],
   "source": [
    "print(array_c)"
   ]
  },
  {
   "cell_type": "code",
   "execution_count": 21,
   "id": "ef82b8c2",
   "metadata": {},
   "outputs": [
    {
     "data": {
      "text/plain": [
       "array(13)"
      ]
     },
     "execution_count": 21,
     "metadata": {},
     "output_type": "execute_result"
    }
   ],
   "source": [
    "array_c"
   ]
  },
  {
   "cell_type": "code",
   "execution_count": 22,
   "id": "d254f71b",
   "metadata": {},
   "outputs": [
    {
     "data": {
      "text/plain": [
       "()"
      ]
     },
     "execution_count": 22,
     "metadata": {},
     "output_type": "execute_result"
    }
   ],
   "source": [
    "array_c.shape"
   ]
  },
  {
   "cell_type": "code",
   "execution_count": 23,
   "id": "f8e154cf",
   "metadata": {},
   "outputs": [],
   "source": [
    "array_d=np.array([15])"
   ]
  },
  {
   "cell_type": "code",
   "execution_count": 24,
   "id": "b89d6764",
   "metadata": {},
   "outputs": [
    {
     "data": {
      "text/plain": [
       "array([15])"
      ]
     },
     "execution_count": 24,
     "metadata": {},
     "output_type": "execute_result"
    }
   ],
   "source": [
    "array_d"
   ]
  },
  {
   "cell_type": "code",
   "execution_count": 25,
   "id": "0127978b",
   "metadata": {},
   "outputs": [
    {
     "data": {
      "text/plain": [
       "(1,)"
      ]
     },
     "execution_count": 25,
     "metadata": {},
     "output_type": "execute_result"
    }
   ],
   "source": [
    "array_d.shape"
   ]
  },
  {
   "cell_type": "code",
   "execution_count": 26,
   "id": "419c1f0e",
   "metadata": {},
   "outputs": [
    {
     "data": {
      "text/plain": [
       "array([[15]])"
      ]
     },
     "execution_count": 26,
     "metadata": {},
     "output_type": "execute_result"
    }
   ],
   "source": [
    "e=np.array([[15]])\n",
    "e"
   ]
  },
  {
   "cell_type": "code",
   "execution_count": 27,
   "id": "5723cdc3",
   "metadata": {},
   "outputs": [
    {
     "data": {
      "text/plain": [
       "(1, 1)"
      ]
     },
     "execution_count": 27,
     "metadata": {},
     "output_type": "execute_result"
    }
   ],
   "source": [
    "e.shape"
   ]
  },
  {
   "cell_type": "markdown",
   "id": "484e74f2",
   "metadata": {},
   "source": [
    "# List vs Array"
   ]
  },
  {
   "cell_type": "code",
   "execution_count": 28,
   "id": "1faa2262",
   "metadata": {},
   "outputs": [],
   "source": [
    "list_a=[1,2,3,4,5,6]"
   ]
  },
  {
   "cell_type": "code",
   "execution_count": 29,
   "id": "ef7a3174",
   "metadata": {},
   "outputs": [
    {
     "data": {
      "text/plain": [
       "6"
      ]
     },
     "execution_count": 29,
     "metadata": {},
     "output_type": "execute_result"
    }
   ],
   "source": [
    "len(list_a)"
   ]
  },
  {
   "cell_type": "code",
   "execution_count": 30,
   "id": "1961fdd8",
   "metadata": {},
   "outputs": [],
   "source": [
    "list_b=[[1,2,3],[4,5,6]]"
   ]
  },
  {
   "cell_type": "code",
   "execution_count": 36,
   "id": "8e5dc8dc",
   "metadata": {},
   "outputs": [
    {
     "data": {
      "text/plain": [
       "[[1, 2, 3], [4, 5, 6]]"
      ]
     },
     "execution_count": 36,
     "metadata": {},
     "output_type": "execute_result"
    }
   ],
   "source": [
    "list_b"
   ]
  },
  {
   "cell_type": "code",
   "execution_count": 31,
   "id": "2a7b728b",
   "metadata": {},
   "outputs": [
    {
     "data": {
      "text/plain": [
       "2"
      ]
     },
     "execution_count": 31,
     "metadata": {},
     "output_type": "execute_result"
    }
   ],
   "source": [
    "len(list_b)"
   ]
  },
  {
   "cell_type": "code",
   "execution_count": 32,
   "id": "38c3868c",
   "metadata": {},
   "outputs": [],
   "source": [
    "a=np.array(list_b)"
   ]
  },
  {
   "cell_type": "code",
   "execution_count": 33,
   "id": "dc2c446b",
   "metadata": {},
   "outputs": [
    {
     "data": {
      "text/plain": [
       "array([[1, 2, 3],\n",
       "       [4, 5, 6]])"
      ]
     },
     "execution_count": 33,
     "metadata": {},
     "output_type": "execute_result"
    }
   ],
   "source": [
    "a"
   ]
  },
  {
   "cell_type": "code",
   "execution_count": 34,
   "id": "ed619884",
   "metadata": {},
   "outputs": [
    {
     "data": {
      "text/plain": [
       "list"
      ]
     },
     "execution_count": 34,
     "metadata": {},
     "output_type": "execute_result"
    }
   ],
   "source": [
    "type(list_b)"
   ]
  },
  {
   "cell_type": "code",
   "execution_count": 35,
   "id": "1fb7fcff",
   "metadata": {},
   "outputs": [
    {
     "data": {
      "text/plain": [
       "numpy.ndarray"
      ]
     },
     "execution_count": 35,
     "metadata": {},
     "output_type": "execute_result"
    }
   ],
   "source": [
    "type(a)"
   ]
  },
  {
   "cell_type": "code",
   "execution_count": 37,
   "id": "0ab6c972",
   "metadata": {},
   "outputs": [
    {
     "data": {
      "text/plain": [
       "(2, 3)"
      ]
     },
     "execution_count": 37,
     "metadata": {},
     "output_type": "execute_result"
    }
   ],
   "source": [
    "a.shape"
   ]
  },
  {
   "cell_type": "code",
   "execution_count": 39,
   "id": "6fe56a0d",
   "metadata": {},
   "outputs": [
    {
     "data": {
      "text/plain": [
       "2"
      ]
     },
     "execution_count": 39,
     "metadata": {},
     "output_type": "execute_result"
    }
   ],
   "source": [
    "len(list_b)"
   ]
  },
  {
   "cell_type": "code",
   "execution_count": 40,
   "id": "00eb3fbf",
   "metadata": {},
   "outputs": [],
   "source": [
    "list_c=list_b[0]+list_b[1]\n",
    "array_b=a[0]+a[1]"
   ]
  },
  {
   "cell_type": "code",
   "execution_count": 41,
   "id": "42560e20",
   "metadata": {},
   "outputs": [
    {
     "name": "stdout",
     "output_type": "stream",
     "text": [
      "[1, 2, 3, 4, 5, 6]\n"
     ]
    }
   ],
   "source": [
    "print(list_c)"
   ]
  },
  {
   "cell_type": "code",
   "execution_count": 42,
   "id": "75234574",
   "metadata": {},
   "outputs": [
    {
     "name": "stdout",
     "output_type": "stream",
     "text": [
      "[5 7 9]\n"
     ]
    }
   ],
   "source": [
    "print(array_b)"
   ]
  },
  {
   "cell_type": "code",
   "execution_count": 43,
   "id": "84de0b84",
   "metadata": {},
   "outputs": [
    {
     "data": {
      "text/plain": [
       "array([2.23606798, 2.64575131, 3.        ])"
      ]
     },
     "execution_count": 43,
     "metadata": {},
     "output_type": "execute_result"
    }
   ],
   "source": [
    "np.sqrt(array_b)"
   ]
  },
  {
   "cell_type": "code",
   "execution_count": 45,
   "id": "dc638649",
   "metadata": {},
   "outputs": [
    {
     "ename": "TypeError",
     "evalue": "must be real number, not list",
     "output_type": "error",
     "traceback": [
      "\u001b[1;31m---------------------------------------------------------------------------\u001b[0m",
      "\u001b[1;31mTypeError\u001b[0m                                 Traceback (most recent call last)",
      "\u001b[1;32m~\\AppData\\Local\\Temp\\ipykernel_4576\\1208438720.py\u001b[0m in \u001b[0;36m<module>\u001b[1;34m\u001b[0m\n\u001b[0;32m      1\u001b[0m \u001b[1;32mimport\u001b[0m \u001b[0mmath\u001b[0m\u001b[1;33m\u001b[0m\u001b[1;33m\u001b[0m\u001b[0m\n\u001b[1;32m----> 2\u001b[1;33m \u001b[0marray_e\u001b[0m\u001b[1;33m=\u001b[0m\u001b[0mmath\u001b[0m\u001b[1;33m.\u001b[0m\u001b[0msqrt\u001b[0m\u001b[1;33m(\u001b[0m\u001b[0mlist_c\u001b[0m\u001b[1;33m)\u001b[0m\u001b[1;33m\u001b[0m\u001b[1;33m\u001b[0m\u001b[0m\n\u001b[0m\u001b[0;32m      3\u001b[0m \u001b[0marray_e\u001b[0m\u001b[1;33m\u001b[0m\u001b[1;33m\u001b[0m\u001b[0m\n",
      "\u001b[1;31mTypeError\u001b[0m: must be real number, not list"
     ]
    }
   ],
   "source": [
    "import math\n",
    "array_e=math.sqrt(list_c)\n",
    "array_e"
   ]
  },
  {
   "cell_type": "code",
   "execution_count": 46,
   "id": "311443f7",
   "metadata": {},
   "outputs": [
    {
     "data": {
      "text/plain": [
       "1.0"
      ]
     },
     "execution_count": 46,
     "metadata": {},
     "output_type": "execute_result"
    }
   ],
   "source": [
    "array_e=math.sqrt(list_c[0])\n",
    "array_e"
   ]
  },
  {
   "cell_type": "code",
   "execution_count": 49,
   "id": "741d777a",
   "metadata": {},
   "outputs": [
    {
     "ename": "TypeError",
     "evalue": "must be real number, not list",
     "output_type": "error",
     "traceback": [
      "\u001b[1;31m---------------------------------------------------------------------------\u001b[0m",
      "\u001b[1;31mTypeError\u001b[0m                                 Traceback (most recent call last)",
      "\u001b[1;32m~\\AppData\\Local\\Temp\\ipykernel_4576\\2888050573.py\u001b[0m in \u001b[0;36m<module>\u001b[1;34m\u001b[0m\n\u001b[1;32m----> 1\u001b[1;33m \u001b[0marray_e\u001b[0m\u001b[1;33m=\u001b[0m\u001b[0mmath\u001b[0m\u001b[1;33m.\u001b[0m\u001b[0msqrt\u001b[0m\u001b[1;33m(\u001b[0m\u001b[0mlist_b\u001b[0m\u001b[1;33m[\u001b[0m\u001b[1;36m0\u001b[0m\u001b[1;33m]\u001b[0m\u001b[1;33m)\u001b[0m\u001b[1;33m\u001b[0m\u001b[1;33m\u001b[0m\u001b[0m\n\u001b[0m\u001b[0;32m      2\u001b[0m \u001b[0marray_e\u001b[0m\u001b[1;33m\u001b[0m\u001b[1;33m\u001b[0m\u001b[0m\n",
      "\u001b[1;31mTypeError\u001b[0m: must be real number, not list"
     ]
    }
   ],
   "source": [
    "array_e=math.sqrt(list_b[0])\n",
    "array_e"
   ]
  },
  {
   "cell_type": "markdown",
   "id": "6d8cb8a4",
   "metadata": {},
   "source": [
    "# Indexing"
   ]
  },
  {
   "cell_type": "code",
   "execution_count": 50,
   "id": "9fb07301",
   "metadata": {},
   "outputs": [
    {
     "data": {
      "text/plain": [
       "array([[1, 2, 3],\n",
       "       [4, 5, 6]])"
      ]
     },
     "execution_count": 50,
     "metadata": {},
     "output_type": "execute_result"
    }
   ],
   "source": [
    "array_a=np.array([[1,2,3],[4,5,6]])\n",
    "array_a"
   ]
  },
  {
   "cell_type": "code",
   "execution_count": 51,
   "id": "74c5956a",
   "metadata": {},
   "outputs": [
    {
     "data": {
      "text/plain": [
       "array([1, 2, 3])"
      ]
     },
     "execution_count": 51,
     "metadata": {},
     "output_type": "execute_result"
    }
   ],
   "source": [
    "array_a[0]"
   ]
  },
  {
   "cell_type": "code",
   "execution_count": 52,
   "id": "052835eb",
   "metadata": {},
   "outputs": [
    {
     "data": {
      "text/plain": [
       "2"
      ]
     },
     "execution_count": 52,
     "metadata": {},
     "output_type": "execute_result"
    }
   ],
   "source": [
    "array_a[0][1]"
   ]
  },
  {
   "cell_type": "code",
   "execution_count": 53,
   "id": "5b35cd9b",
   "metadata": {},
   "outputs": [
    {
     "data": {
      "text/plain": [
       "2"
      ]
     },
     "execution_count": 53,
     "metadata": {},
     "output_type": "execute_result"
    }
   ],
   "source": [
    "array_a[0,1]"
   ]
  },
  {
   "cell_type": "code",
   "execution_count": 54,
   "id": "74e6d982",
   "metadata": {},
   "outputs": [
    {
     "data": {
      "text/plain": [
       "array([2, 5])"
      ]
     },
     "execution_count": 54,
     "metadata": {},
     "output_type": "execute_result"
    }
   ],
   "source": [
    "array_a[:,1]"
   ]
  },
  {
   "cell_type": "code",
   "execution_count": 55,
   "id": "cfcf9abf",
   "metadata": {},
   "outputs": [
    {
     "data": {
      "text/plain": [
       "array([[1, 2, 3],\n",
       "       [4, 5, 6]])"
      ]
     },
     "execution_count": 55,
     "metadata": {},
     "output_type": "execute_result"
    }
   ],
   "source": [
    "array_a"
   ]
  },
  {
   "cell_type": "code",
   "execution_count": 56,
   "id": "c73420fc",
   "metadata": {},
   "outputs": [
    {
     "data": {
      "text/plain": [
       "array([[9, 9, 9],\n",
       "       [4, 5, 6]])"
      ]
     },
     "execution_count": 56,
     "metadata": {},
     "output_type": "execute_result"
    }
   ],
   "source": [
    "array_a[0]=9\n",
    "array_a"
   ]
  },
  {
   "cell_type": "code",
   "execution_count": 58,
   "id": "964cb8bc",
   "metadata": {},
   "outputs": [
    {
     "data": {
      "text/plain": [
       "array([[9, 7, 9],\n",
       "       [4, 7, 6]])"
      ]
     },
     "execution_count": 58,
     "metadata": {},
     "output_type": "execute_result"
    }
   ],
   "source": [
    "array_a[:,1]=7\n",
    "array_a"
   ]
  },
  {
   "cell_type": "markdown",
   "id": "1c01e937",
   "metadata": {},
   "source": [
    "# Running over an Axis"
   ]
  },
  {
   "cell_type": "code",
   "execution_count": 59,
   "id": "1b7037b9",
   "metadata": {},
   "outputs": [
    {
     "data": {
      "text/plain": [
       "array([[1, 2, 3],\n",
       "       [4, 5, 6]])"
      ]
     },
     "execution_count": 59,
     "metadata": {},
     "output_type": "execute_result"
    }
   ],
   "source": [
    "matrix_c=np.array([[1,2,3],[4,5,6]])\n",
    "matrix_c"
   ]
  },
  {
   "cell_type": "code",
   "execution_count": 60,
   "id": "83992879",
   "metadata": {},
   "outputs": [
    {
     "data": {
      "text/plain": [
       "3.5"
      ]
     },
     "execution_count": 60,
     "metadata": {},
     "output_type": "execute_result"
    }
   ],
   "source": [
    "np.mean(matrix_c)"
   ]
  },
  {
   "cell_type": "code",
   "execution_count": 61,
   "id": "5ece509f",
   "metadata": {},
   "outputs": [
    {
     "data": {
      "text/plain": [
       "array([2.5, 3.5, 4.5])"
      ]
     },
     "execution_count": 61,
     "metadata": {},
     "output_type": "execute_result"
    }
   ],
   "source": [
    "np.mean(matrix_c,axis=0)"
   ]
  },
  {
   "cell_type": "code",
   "execution_count": 62,
   "id": "ced80825",
   "metadata": {},
   "outputs": [
    {
     "data": {
      "text/plain": [
       "array([2., 5.])"
      ]
     },
     "execution_count": 62,
     "metadata": {},
     "output_type": "execute_result"
    }
   ],
   "source": [
    "np.mean(matrix_c,axis=1)"
   ]
  },
  {
   "cell_type": "markdown",
   "id": "3ece0767",
   "metadata": {},
   "source": [
    "# conditional slicing"
   ]
  },
  {
   "cell_type": "code",
   "execution_count": 63,
   "id": "e354438a",
   "metadata": {},
   "outputs": [
    {
     "data": {
      "text/plain": [
       "array([[1, 1, 1, 2, 0],\n",
       "       [3, 6, 6, 7, 4],\n",
       "       [4, 5, 3, 8, 0]])"
      ]
     },
     "execution_count": 63,
     "metadata": {},
     "output_type": "execute_result"
    }
   ],
   "source": [
    "array_c=np.array([[1,1,1,2,0],[3,6,6,7,4],[4,5,3,8,0]])\n",
    "array_c"
   ]
  },
  {
   "cell_type": "code",
   "execution_count": 64,
   "id": "a57f8f7f",
   "metadata": {},
   "outputs": [
    {
     "data": {
      "text/plain": [
       "array([1, 3, 4])"
      ]
     },
     "execution_count": 64,
     "metadata": {},
     "output_type": "execute_result"
    }
   ],
   "source": [
    "array_c[:,0]"
   ]
  },
  {
   "cell_type": "code",
   "execution_count": 66,
   "id": "2c0998f1",
   "metadata": {},
   "outputs": [
    {
     "data": {
      "text/plain": [
       "array([False,  True,  True])"
      ]
     },
     "execution_count": 66,
     "metadata": {},
     "output_type": "execute_result"
    }
   ],
   "source": [
    "array_c[:,0]>2"
   ]
  },
  {
   "cell_type": "code",
   "execution_count": 67,
   "id": "46d9d3c4",
   "metadata": {},
   "outputs": [
    {
     "data": {
      "text/plain": [
       "array([[3, 6, 6, 7, 4],\n",
       "       [4, 5, 3, 8, 0]])"
      ]
     },
     "execution_count": 67,
     "metadata": {},
     "output_type": "execute_result"
    }
   ],
   "source": [
    "array_c[array_c[:,0]>2]"
   ]
  },
  {
   "cell_type": "code",
   "execution_count": 68,
   "id": "a28bb451",
   "metadata": {},
   "outputs": [
    {
     "data": {
      "text/plain": [
       "array([3, 6, 6, 7, 4, 4, 5, 3, 8])"
      ]
     },
     "execution_count": 68,
     "metadata": {},
     "output_type": "execute_result"
    }
   ],
   "source": [
    "array_c[array_c[:,:]>2]"
   ]
  },
  {
   "cell_type": "code",
   "execution_count": 71,
   "id": "316cd62c",
   "metadata": {},
   "outputs": [
    {
     "data": {
      "text/plain": [
       "array([2, 0, 4, 4, 0])"
      ]
     },
     "execution_count": 71,
     "metadata": {},
     "output_type": "execute_result"
    }
   ],
   "source": [
    "array_c[(array_c[:,:] %2==0) & (array_c[:,:]<=4)] # &==and"
   ]
  },
  {
   "cell_type": "code",
   "execution_count": 72,
   "id": "8ae431de",
   "metadata": {},
   "outputs": [
    {
     "data": {
      "text/plain": [
       "array([1, 1, 1, 2, 0, 3, 6, 6, 4, 4, 3, 8, 0])"
      ]
     },
     "execution_count": 72,
     "metadata": {},
     "output_type": "execute_result"
    }
   ],
   "source": [
    "array_c[(array_c[:,:] %2==0) | (array_c[:,:]<=4)] #|== or"
   ]
  },
  {
   "cell_type": "markdown",
   "id": "125e61c7",
   "metadata": {},
   "source": [
    "# Dimention and Squeeze Function"
   ]
  },
  {
   "cell_type": "code",
   "execution_count": 75,
   "id": "eae828ea",
   "metadata": {},
   "outputs": [
    {
     "data": {
      "text/plain": [
       "array([[1, 1, 1, 2, 0],\n",
       "       [3, 6, 6, 7, 4],\n",
       "       [4, 5, 3, 8, 0]])"
      ]
     },
     "execution_count": 75,
     "metadata": {},
     "output_type": "execute_result"
    }
   ],
   "source": [
    "matrix=np.array([[1,1,1,2,0],[3,6,6,7,4],[4,5,3,8,0]])\n",
    "matrix"
   ]
  },
  {
   "cell_type": "code",
   "execution_count": 77,
   "id": "703a6989",
   "metadata": {},
   "outputs": [
    {
     "data": {
      "text/plain": [
       "numpy.int32"
      ]
     },
     "execution_count": 77,
     "metadata": {},
     "output_type": "execute_result"
    }
   ],
   "source": [
    "type(matrix[0,0])"
   ]
  },
  {
   "cell_type": "code",
   "execution_count": 78,
   "id": "914129e4",
   "metadata": {},
   "outputs": [
    {
     "name": "stdout",
     "output_type": "stream",
     "text": [
      "1\n"
     ]
    }
   ],
   "source": [
    "print(matrix[0,0])"
   ]
  },
  {
   "cell_type": "code",
   "execution_count": 79,
   "id": "f428bc3f",
   "metadata": {},
   "outputs": [
    {
     "data": {
      "text/plain": [
       "numpy.ndarray"
      ]
     },
     "execution_count": 79,
     "metadata": {},
     "output_type": "execute_result"
    }
   ],
   "source": [
    "type(matrix[0,0:1])"
   ]
  },
  {
   "cell_type": "code",
   "execution_count": 81,
   "id": "64b00329",
   "metadata": {},
   "outputs": [
    {
     "name": "stdout",
     "output_type": "stream",
     "text": [
      "[1]\n"
     ]
    }
   ],
   "source": [
    "print(matrix[0,0:1])"
   ]
  },
  {
   "cell_type": "code",
   "execution_count": 82,
   "id": "99d90c11",
   "metadata": {},
   "outputs": [
    {
     "data": {
      "text/plain": [
       "numpy.ndarray"
      ]
     },
     "execution_count": 82,
     "metadata": {},
     "output_type": "execute_result"
    }
   ],
   "source": [
    "type(matrix[0:1,0:1])"
   ]
  },
  {
   "cell_type": "code",
   "execution_count": 83,
   "id": "43f6ec20",
   "metadata": {},
   "outputs": [
    {
     "name": "stdout",
     "output_type": "stream",
     "text": [
      "[[1]]\n"
     ]
    }
   ],
   "source": [
    "print(matrix[0:1,0:1])"
   ]
  },
  {
   "cell_type": "code",
   "execution_count": 84,
   "id": "d05044e1",
   "metadata": {},
   "outputs": [
    {
     "name": "stdout",
     "output_type": "stream",
     "text": [
      "()\n",
      "(1,)\n",
      "(1, 1)\n"
     ]
    }
   ],
   "source": [
    "print(matrix[0,0].shape)\n",
    "print(matrix[0,0:1].shape)\n",
    "print(matrix[0:1,0:1].shape)"
   ]
  },
  {
   "cell_type": "code",
   "execution_count": 85,
   "id": "9ae7340b",
   "metadata": {},
   "outputs": [],
   "source": [
    "# Squeeze Metod: Removes all the unnecessary dimensions of an array"
   ]
  },
  {
   "cell_type": "code",
   "execution_count": 86,
   "id": "8472d049",
   "metadata": {},
   "outputs": [
    {
     "data": {
      "text/plain": [
       "array(1)"
      ]
     },
     "execution_count": 86,
     "metadata": {},
     "output_type": "execute_result"
    }
   ],
   "source": [
    "matrix[0:1,0:1].squeeze()"
   ]
  },
  {
   "cell_type": "code",
   "execution_count": 87,
   "id": "8c92c361",
   "metadata": {},
   "outputs": [
    {
     "data": {
      "text/plain": [
       "()"
      ]
     },
     "execution_count": 87,
     "metadata": {},
     "output_type": "execute_result"
    }
   ],
   "source": [
    "matrix[0:1,0:1].squeeze().shape"
   ]
  },
  {
   "cell_type": "code",
   "execution_count": 88,
   "id": "71d2a07e",
   "metadata": {},
   "outputs": [
    {
     "name": "stdout",
     "output_type": "stream",
     "text": [
      "1\n"
     ]
    }
   ],
   "source": [
    "print(matrix[0:1,0:1].squeeze())"
   ]
  },
  {
   "cell_type": "code",
   "execution_count": 89,
   "id": "1308c7bc",
   "metadata": {},
   "outputs": [
    {
     "data": {
      "text/plain": [
       "array(1)"
      ]
     },
     "execution_count": 89,
     "metadata": {},
     "output_type": "execute_result"
    }
   ],
   "source": [
    "np.squeeze(matrix[0:1,0:1])"
   ]
  },
  {
   "cell_type": "code",
   "execution_count": 90,
   "id": "1cfd78a2",
   "metadata": {},
   "outputs": [
    {
     "name": "stdout",
     "output_type": "stream",
     "text": [
      "()\n",
      "()\n",
      "()\n"
     ]
    }
   ],
   "source": [
    "print(matrix[0,0].squeeze().shape)\n",
    "print(matrix[0,0:1].squeeze().shape)\n",
    "print(matrix[0:1,0:1].squeeze().shape)"
   ]
  },
  {
   "cell_type": "code",
   "execution_count": 93,
   "id": "f0d9dc6b",
   "metadata": {},
   "outputs": [
    {
     "data": {
      "text/plain": [
       "array([['a-b', 'c-d', 'e-f'],\n",
       "       ['g-h', 'i-j', 'k-l'],\n",
       "       ['m-n', 'o-p', 'q-r']], dtype='<U3')"
      ]
     },
     "execution_count": 93,
     "metadata": {},
     "output_type": "execute_result"
    }
   ],
   "source": [
    "text=np.array([['a-b','c-d','e-f'],['g-h','i-j','k-l'],['m-n','o-p','q-r']])\n",
    "text"
   ]
  },
  {
   "cell_type": "code",
   "execution_count": 94,
   "id": "c277066d",
   "metadata": {},
   "outputs": [
    {
     "ename": "AttributeError",
     "evalue": "'numpy.ndarray' object has no attribute 'split'",
     "output_type": "error",
     "traceback": [
      "\u001b[1;31m---------------------------------------------------------------------------\u001b[0m",
      "\u001b[1;31mAttributeError\u001b[0m                            Traceback (most recent call last)",
      "\u001b[1;32m~\\AppData\\Local\\Temp\\ipykernel_4576\\4235831233.py\u001b[0m in \u001b[0;36m<module>\u001b[1;34m\u001b[0m\n\u001b[1;32m----> 1\u001b[1;33m \u001b[0mtext2\u001b[0m\u001b[1;33m=\u001b[0m\u001b[0mtext\u001b[0m\u001b[1;33m.\u001b[0m\u001b[0msplit\u001b[0m\u001b[1;33m(\u001b[0m\u001b[1;34m'-'\u001b[0m\u001b[1;33m)\u001b[0m\u001b[1;33m\u001b[0m\u001b[1;33m\u001b[0m\u001b[0m\n\u001b[0m",
      "\u001b[1;31mAttributeError\u001b[0m: 'numpy.ndarray' object has no attribute 'split'"
     ]
    }
   ],
   "source": [
    "text2=text.split('-')"
   ]
  },
  {
   "cell_type": "code",
   "execution_count": 95,
   "id": "139e7a39",
   "metadata": {},
   "outputs": [],
   "source": [
    "r=np.array([[1,2],[3,4],[5,6]])\n",
    "e=[[1,2],[3,4],[5,6]]"
   ]
  },
  {
   "cell_type": "code",
   "execution_count": 96,
   "id": "a89f2a12",
   "metadata": {},
   "outputs": [
    {
     "data": {
      "text/plain": [
       "array([ 8, 10])"
      ]
     },
     "execution_count": 96,
     "metadata": {},
     "output_type": "execute_result"
    }
   ],
   "source": [
    "r[2,:]+e[1]"
   ]
  },
  {
   "cell_type": "code",
   "execution_count": 97,
   "id": "226ac37b",
   "metadata": {},
   "outputs": [
    {
     "data": {
      "text/plain": [
       "[1, 2, 3, 4]"
      ]
     },
     "execution_count": 97,
     "metadata": {},
     "output_type": "execute_result"
    }
   ],
   "source": [
    "e[0]+e[1]"
   ]
  },
  {
   "cell_type": "code",
   "execution_count": 99,
   "id": "8814d5f2",
   "metadata": {},
   "outputs": [
    {
     "data": {
      "text/plain": [
       "array([2, 4])"
      ]
     },
     "execution_count": 99,
     "metadata": {},
     "output_type": "execute_result"
    }
   ],
   "source": [
    "r[0]+r[0,:]"
   ]
  },
  {
   "cell_type": "code",
   "execution_count": 100,
   "id": "cbfe5c3a",
   "metadata": {},
   "outputs": [],
   "source": [
    "r[0]=[1,1]"
   ]
  },
  {
   "cell_type": "code",
   "execution_count": 101,
   "id": "5bc40eb0",
   "metadata": {},
   "outputs": [
    {
     "data": {
      "text/plain": [
       "array([[1, 1],\n",
       "       [3, 4],\n",
       "       [5, 6]])"
      ]
     },
     "execution_count": 101,
     "metadata": {},
     "output_type": "execute_result"
    }
   ],
   "source": [
    "r"
   ]
  },
  {
   "cell_type": "code",
   "execution_count": 102,
   "id": "fccdf02f",
   "metadata": {},
   "outputs": [],
   "source": [
    "q=np.array([1,2,3])"
   ]
  },
  {
   "cell_type": "code",
   "execution_count": 103,
   "id": "e4a4fc3a",
   "metadata": {},
   "outputs": [
    {
     "data": {
      "text/plain": [
       "array([2, 3, 4])"
      ]
     },
     "execution_count": 103,
     "metadata": {},
     "output_type": "execute_result"
    }
   ],
   "source": [
    "q+np.array(1)"
   ]
  },
  {
   "cell_type": "code",
   "execution_count": 104,
   "id": "c48d6761",
   "metadata": {},
   "outputs": [],
   "source": [
    "p=np.array([[1,10,3],[1,20,4]])"
   ]
  },
  {
   "cell_type": "markdown",
   "id": "e86936ca",
   "metadata": {},
   "source": [
    "# Generating data with Numy"
   ]
  },
  {
   "cell_type": "code",
   "execution_count": 107,
   "id": "f0bdd98b",
   "metadata": {},
   "outputs": [
    {
     "data": {
      "text/plain": [
       "array([[0., 0., 0.],\n",
       "       [0., 0., 0.]])"
      ]
     },
     "execution_count": 107,
     "metadata": {},
     "output_type": "execute_result"
    }
   ],
   "source": [
    "a=np.empty(shape=(2,3))\n",
    "a"
   ]
  },
  {
   "cell_type": "code",
   "execution_count": 109,
   "id": "20127e27",
   "metadata": {},
   "outputs": [
    {
     "data": {
      "text/plain": [
       "array([[0., 0., 0.],\n",
       "       [0., 0., 0.]])"
      ]
     },
     "execution_count": 109,
     "metadata": {},
     "output_type": "execute_result"
    }
   ],
   "source": [
    "b=np.zeros(shape=(2,3))\n",
    "b"
   ]
  },
  {
   "cell_type": "code",
   "execution_count": 110,
   "id": "f52017e3",
   "metadata": {},
   "outputs": [
    {
     "data": {
      "text/plain": [
       "array([[0, 0, 0],\n",
       "       [0, 0, 0]], dtype=int8)"
      ]
     },
     "execution_count": 110,
     "metadata": {},
     "output_type": "execute_result"
    }
   ],
   "source": [
    "b=np.zeros(shape=(2,3),dtype=np.int8)\n",
    "b"
   ]
  },
  {
   "cell_type": "code",
   "execution_count": 112,
   "id": "0299a919",
   "metadata": {},
   "outputs": [
    {
     "data": {
      "text/plain": [
       "array([[1., 1., 1.],\n",
       "       [1., 1., 1.]])"
      ]
     },
     "execution_count": 112,
     "metadata": {},
     "output_type": "execute_result"
    }
   ],
   "source": [
    "c=np.ones(shape=(2,3))\n",
    "c"
   ]
  },
  {
   "cell_type": "code",
   "execution_count": 113,
   "id": "ec8265b0",
   "metadata": {},
   "outputs": [
    {
     "data": {
      "text/plain": [
       "array([[2, 2, 2],\n",
       "       [2, 2, 2]])"
      ]
     },
     "execution_count": 113,
     "metadata": {},
     "output_type": "execute_result"
    }
   ],
   "source": [
    "d=np.full(shape=(2,3),fill_value=2)\n",
    "d"
   ]
  },
  {
   "cell_type": "code",
   "execution_count": 114,
   "id": "50e631b7",
   "metadata": {},
   "outputs": [
    {
     "data": {
      "text/plain": [
       "array([['Two', 'Two', 'Two'],\n",
       "       ['Two', 'Two', 'Two']], dtype='<U3')"
      ]
     },
     "execution_count": 114,
     "metadata": {},
     "output_type": "execute_result"
    }
   ],
   "source": [
    "d=np.full(shape=(2,3),fill_value='Two')\n",
    "d"
   ]
  },
  {
   "cell_type": "markdown",
   "id": "d1bfec4c",
   "metadata": {},
   "source": [
    "## _like"
   ]
  },
  {
   "cell_type": "code",
   "execution_count": 156,
   "id": "c23010d0",
   "metadata": {},
   "outputs": [
    {
     "data": {
      "text/plain": [
       "array([[ 1,  2,  3,  4,  5],\n",
       "       [ 6,  7,  8,  9, 10],\n",
       "       [11, 12, 13, 14, 15]])"
      ]
     },
     "execution_count": 156,
     "metadata": {},
     "output_type": "execute_result"
    }
   ],
   "source": [
    "a=np.array([[1,2,3,4,5],[6,7,8,9,10],[11,12,13,14,15]])\n",
    "a"
   ]
  },
  {
   "cell_type": "code",
   "execution_count": 123,
   "id": "964cd92c",
   "metadata": {},
   "outputs": [
    {
     "data": {
      "text/plain": [
       "array([[      0,       0,       0,       0,       0],\n",
       "       [      0,       0,       0,       0,       0],\n",
       "       [   1712,       0,       0, 7077985,       0]])"
      ]
     },
     "execution_count": 123,
     "metadata": {},
     "output_type": "execute_result"
    }
   ],
   "source": [
    "b=np.empty_like(a)\n",
    "b"
   ]
  },
  {
   "cell_type": "code",
   "execution_count": 158,
   "id": "34b1bcf9",
   "metadata": {},
   "outputs": [
    {
     "data": {
      "text/plain": [
       "array([[-1, -1, -1, -1, -1],\n",
       "       [-1, -1, -1, -1, -1],\n",
       "       [-1, -1, -1, -1, -1]])"
      ]
     },
     "execution_count": 158,
     "metadata": {},
     "output_type": "execute_result"
    }
   ],
   "source": [
    "-np.ones_like(a)"
   ]
  },
  {
   "cell_type": "code",
   "execution_count": 125,
   "id": "8d6472e4",
   "metadata": {},
   "outputs": [
    {
     "data": {
      "text/plain": [
       "array([[0, 0, 0, 0, 0],\n",
       "       [0, 0, 0, 0, 0],\n",
       "       [0, 0, 0, 0, 0]])"
      ]
     },
     "execution_count": 125,
     "metadata": {},
     "output_type": "execute_result"
    }
   ],
   "source": [
    "c=np.zeros_like(a)\n",
    "c"
   ]
  },
  {
   "cell_type": "code",
   "execution_count": 126,
   "id": "b5cbc42a",
   "metadata": {},
   "outputs": [
    {
     "data": {
      "text/plain": [
       "range(0, 30)"
      ]
     },
     "execution_count": 126,
     "metadata": {},
     "output_type": "execute_result"
    }
   ],
   "source": [
    "range(30)"
   ]
  },
  {
   "cell_type": "code",
   "execution_count": 127,
   "id": "c2f33ca4",
   "metadata": {},
   "outputs": [
    {
     "data": {
      "text/plain": [
       "[0,\n",
       " 1,\n",
       " 2,\n",
       " 3,\n",
       " 4,\n",
       " 5,\n",
       " 6,\n",
       " 7,\n",
       " 8,\n",
       " 9,\n",
       " 10,\n",
       " 11,\n",
       " 12,\n",
       " 13,\n",
       " 14,\n",
       " 15,\n",
       " 16,\n",
       " 17,\n",
       " 18,\n",
       " 19,\n",
       " 20,\n",
       " 21,\n",
       " 22,\n",
       " 23,\n",
       " 24,\n",
       " 25,\n",
       " 26,\n",
       " 27,\n",
       " 28,\n",
       " 29]"
      ]
     },
     "execution_count": 127,
     "metadata": {},
     "output_type": "execute_result"
    }
   ],
   "source": [
    "list(range(30))"
   ]
  },
  {
   "cell_type": "code",
   "execution_count": 128,
   "id": "4cb4c3ad",
   "metadata": {},
   "outputs": [
    {
     "data": {
      "text/plain": [
       "array([ 0,  1,  2,  3,  4,  5,  6,  7,  8,  9, 10, 11, 12, 13, 14, 15, 16,\n",
       "       17, 18, 19, 20, 21, 22, 23, 24, 25, 26, 27, 28, 29])"
      ]
     },
     "execution_count": 128,
     "metadata": {},
     "output_type": "execute_result"
    }
   ],
   "source": [
    "a=np.arange(30)\n",
    "a"
   ]
  },
  {
   "cell_type": "code",
   "execution_count": 130,
   "id": "e846a511",
   "metadata": {},
   "outputs": [
    {
     "data": {
      "text/plain": [
       "array([ 2. ,  4.5,  7. ,  9.5, 12. , 14.5, 17. , 19.5, 22. , 24.5, 27. ,\n",
       "       29.5])"
      ]
     },
     "execution_count": 130,
     "metadata": {},
     "output_type": "execute_result"
    }
   ],
   "source": [
    "a=np.arange(2,30,2.5)\n",
    "a"
   ]
  },
  {
   "cell_type": "code",
   "execution_count": 132,
   "id": "7f6a142c",
   "metadata": {},
   "outputs": [
    {
     "data": {
      "text/plain": [
       "array([ 2,  4,  6,  8, 10, 12, 14, 16, 18, 20, 22, 24])"
      ]
     },
     "execution_count": 132,
     "metadata": {},
     "output_type": "execute_result"
    }
   ],
   "source": [
    "a=np.arange(2,30,2.5,dtype=np.int32)\n",
    "a"
   ]
  },
  {
   "cell_type": "markdown",
   "id": "477ca52a",
   "metadata": {},
   "source": [
    "# Random Generator"
   ]
  },
  {
   "cell_type": "code",
   "execution_count": 134,
   "id": "56511ed2",
   "metadata": {},
   "outputs": [],
   "source": [
    "from numpy.random import Generator as gen # The Generator function takes a it generator as an input and creates generator obects\n",
    "from numpy.random import PCG64 as pcg # Permutaion Congruential Generator"
   ]
  },
  {
   "cell_type": "code",
   "execution_count": 135,
   "id": "39b4423e",
   "metadata": {},
   "outputs": [
    {
     "data": {
      "text/plain": [
       "-0.4820859937054019"
      ]
     },
     "execution_count": 135,
     "metadata": {},
     "output_type": "execute_result"
    }
   ],
   "source": [
    "array_RG=gen(pcg()) # RG stands for random generator\n",
    "array_RG.normal()"
   ]
  },
  {
   "cell_type": "code",
   "execution_count": 136,
   "id": "a5bbe7a0",
   "metadata": {},
   "outputs": [
    {
     "data": {
      "text/plain": [
       "array([-0.50520627, -0.64617125, -0.75163833,  1.87110693, -1.87161266])"
      ]
     },
     "execution_count": 136,
     "metadata": {},
     "output_type": "execute_result"
    }
   ],
   "source": [
    "array_RG.normal(size=5)"
   ]
  },
  {
   "cell_type": "code",
   "execution_count": 137,
   "id": "54f6d052",
   "metadata": {},
   "outputs": [
    {
     "data": {
      "text/plain": [
       "array([[-1.41295536, -0.42976252, -1.03915206],\n",
       "       [-1.94827852, -0.1707813 , -0.41550438]])"
      ]
     },
     "execution_count": 137,
     "metadata": {},
     "output_type": "execute_result"
    }
   ],
   "source": [
    "array_RG.normal(size=(2,3))"
   ]
  },
  {
   "cell_type": "code",
   "execution_count": 138,
   "id": "27420d37",
   "metadata": {},
   "outputs": [
    {
     "data": {
      "text/plain": [
       "array([[-0.13640899,  0.09414431, -0.06300442,  1.05391641, -0.6866818 ],\n",
       "       [-0.50922173, -0.7999526 ,  0.73041825,  0.08825439, -2.1177576 ],\n",
       "       [ 0.65526774, -0.48095012, -0.5519114 , -0.58578662, -0.98257896],\n",
       "       [ 1.12378166, -1.30984316, -0.04703774,  0.955272  ,  0.26071745],\n",
       "       [-0.20023668, -1.50172484, -1.4929163 ,  0.96535084,  1.18694633]])"
      ]
     },
     "execution_count": 138,
     "metadata": {},
     "output_type": "execute_result"
    }
   ],
   "source": [
    "array_RG=gen(pcg(seed=365))\n",
    "array_RG.normal(size=(5,5))"
   ]
  },
  {
   "cell_type": "markdown",
   "id": "cdd0d2b1",
   "metadata": {},
   "source": [
    "## Generating Integers, Probability and Random Choices"
   ]
  },
  {
   "cell_type": "code",
   "execution_count": 139,
   "id": "a1356cd1",
   "metadata": {},
   "outputs": [
    {
     "data": {
      "text/plain": [
       "array([[0, 7, 6, 7, 8],\n",
       "       [6, 6, 2, 0, 6],\n",
       "       [3, 0, 3, 7, 9],\n",
       "       [1, 1, 8, 7, 4],\n",
       "       [4, 8, 6, 4, 9]], dtype=int64)"
      ]
     },
     "execution_count": 139,
     "metadata": {},
     "output_type": "execute_result"
    }
   ],
   "source": [
    "array_RG=gen(pcg(seed=365))\n",
    "array_RG.integers(10,size=(5,5))"
   ]
  },
  {
   "cell_type": "code",
   "execution_count": 140,
   "id": "437785d6",
   "metadata": {},
   "outputs": [
    {
     "data": {
      "text/plain": [
       "array([[18, 78, 64, 78, 84],\n",
       "       [66, 67, 28, 10, 69],\n",
       "       [45, 15, 37, 74, 96],\n",
       "       [19, 21, 89, 73, 54],\n",
       "       [53, 84, 66, 51, 92]], dtype=int64)"
      ]
     },
     "execution_count": 140,
     "metadata": {},
     "output_type": "execute_result"
    }
   ],
   "source": [
    "array_RG=gen(pcg(seed=365))\n",
    "array_RG.integers(low=10,high=100,size=(5,5))"
   ]
  },
  {
   "cell_type": "code",
   "execution_count": 141,
   "id": "194c4a4b",
   "metadata": {},
   "outputs": [
    {
     "data": {
      "text/plain": [
       "array([[0.75915734, 0.7662218 , 0.6291028 , 0.20336599, 0.66501486],\n",
       "       [0.06559111, 0.71326309, 0.10812106, 0.87969046, 0.49405844],\n",
       "       [0.82472673, 0.45652944, 0.07367232, 0.69628564, 0.36690736],\n",
       "       [0.29787156, 0.4996155 , 0.4865245 , 0.62740703, 0.54952637],\n",
       "       [0.64894629, 0.04411757, 0.7206516 , 0.84594003, 0.17159792]])"
      ]
     },
     "execution_count": 141,
     "metadata": {},
     "output_type": "execute_result"
    }
   ],
   "source": [
    "array_RG=gen(pcg(seed=365))\n",
    "array_RG.random(size=(5,5))"
   ]
  },
  {
   "cell_type": "code",
   "execution_count": 142,
   "id": "4da3f92e",
   "metadata": {},
   "outputs": [
    {
     "data": {
      "text/plain": [
       "array([[1, 4, 4, 4, 5],\n",
       "       [4, 4, 2, 1, 4],\n",
       "       [2, 1, 2, 4, 5],\n",
       "       [1, 1, 5, 4, 3],\n",
       "       [3, 5, 4, 3, 5]])"
      ]
     },
     "execution_count": 142,
     "metadata": {},
     "output_type": "execute_result"
    }
   ],
   "source": [
    "array_RG=gen(pcg(seed=365))\n",
    "array_RG.choice([1,2,3,4,5],size=(5,5))"
   ]
  },
  {
   "cell_type": "code",
   "execution_count": 143,
   "id": "284baad2",
   "metadata": {},
   "outputs": [
    {
     "data": {
      "text/plain": [
       "array([[5, 5, 5, 3, 5],\n",
       "       [1, 5, 2, 5, 5],\n",
       "       [5, 5, 1, 5, 4],\n",
       "       [3, 5, 5, 5, 5],\n",
       "       [5, 1, 5, 5, 2]])"
      ]
     },
     "execution_count": 143,
     "metadata": {},
     "output_type": "execute_result"
    }
   ],
   "source": [
    "array_RG=gen(pcg(seed=365))\n",
    "array_RG.choice([1,2,3,4,5],p=[0.1,0.1,0.1,0.1,0.6],size=(5,5))"
   ]
  },
  {
   "cell_type": "markdown",
   "id": "9414433e",
   "metadata": {},
   "source": [
    "## Generating arrays from known Distributions"
   ]
  },
  {
   "cell_type": "code",
   "execution_count": 145,
   "id": "95d59092",
   "metadata": {},
   "outputs": [
    {
     "data": {
      "text/plain": [
       "array([[2, 0, 1, 1, 2],\n",
       "       [1, 1, 0, 1, 1],\n",
       "       [1, 2, 1, 1, 0],\n",
       "       [0, 1, 0, 2, 1],\n",
       "       [0, 1, 0, 0, 2]], dtype=int64)"
      ]
     },
     "execution_count": 145,
     "metadata": {},
     "output_type": "execute_result"
    }
   ],
   "source": [
    "# poission distribution\n",
    "array_RG=gen(pcg(seed=365))\n",
    "array_RG.poisson(size=(5,5))# lambda=1 y default"
   ]
  },
  {
   "cell_type": "code",
   "execution_count": 146,
   "id": "e4c6969e",
   "metadata": {},
   "outputs": [
    {
     "data": {
      "text/plain": [
       "array([[11, 12, 12, 14, 13],\n",
       "       [ 9, 10, 11, 11,  8],\n",
       "       [11,  8, 10,  9, 14],\n",
       "       [ 7,  8,  9, 15, 15],\n",
       "       [13,  8,  8,  7,  9]], dtype=int64)"
      ]
     },
     "execution_count": 146,
     "metadata": {},
     "output_type": "execute_result"
    }
   ],
   "source": [
    "array_RG=gen(pcg(seed=365))\n",
    "array_RG.poisson(lam=10,size=(5,5))"
   ]
  },
  {
   "cell_type": "code",
   "execution_count": 147,
   "id": "5db7a3a8",
   "metadata": {},
   "outputs": [
    {
     "data": {
      "text/plain": [
       "array([[42, 44, 30, 36, 45],\n",
       "       [36, 41, 38, 42, 41],\n",
       "       [35, 31, 35, 46, 29],\n",
       "       [41, 41, 46, 34, 48],\n",
       "       [45, 45, 45, 40, 43]], dtype=int64)"
      ]
     },
     "execution_count": 147,
     "metadata": {},
     "output_type": "execute_result"
    }
   ],
   "source": [
    "# Binomial distribution\n",
    "array_RG=gen(pcg(seed=365))\n",
    "array_RG.binomial(n=100,p=0.4,size=(5,5))"
   ]
  },
  {
   "cell_type": "code",
   "execution_count": 174,
   "id": "f40e97d6",
   "metadata": {},
   "outputs": [
    {
     "data": {
      "text/plain": [
       "25.666666666666668"
      ]
     },
     "execution_count": 174,
     "metadata": {},
     "output_type": "execute_result"
    }
   ],
   "source": [
    "array_RG=gen(pcg(seed=60))\n",
    "# array_RG.binomial(n=80,p=0.3,size=(3,3))\n",
    "np.mean(array_RG.binomial(n=80,p=0.3,size=(3,3)))"
   ]
  },
  {
   "cell_type": "code",
   "execution_count": 173,
   "id": "5c233d7c",
   "metadata": {},
   "outputs": [
    {
     "data": {
      "text/plain": [
       "23.444444444444443"
      ]
     },
     "execution_count": 173,
     "metadata": {},
     "output_type": "execute_result"
    }
   ],
   "source": []
  },
  {
   "cell_type": "code",
   "execution_count": 148,
   "id": "98cabc27",
   "metadata": {},
   "outputs": [
    {
     "data": {
      "text/plain": [
       "array([[10.37767822, 10.42451863,  9.63404367,  7.36153427,  9.82286787],\n",
       "       [ 5.81223125, 10.09354231,  6.46790532, 11.38740256,  8.97147918],\n",
       "       [10.85844698,  8.79081317,  5.962079  ,  9.99560681,  8.34539118],\n",
       "       [ 7.97105522,  8.9981544 ,  8.93530194,  9.6253307 ,  9.23850869],\n",
       "       [ 9.73729284,  5.3090678 , 10.13723528, 11.04372782,  7.11078651]])"
      ]
     },
     "execution_count": 148,
     "metadata": {},
     "output_type": "execute_result"
    }
   ],
   "source": [
    "array_RG=gen(pcg(seed=365))\n",
    "array_RG.logistic(loc=9,scale=1.2,size=(5,5))"
   ]
  },
  {
   "cell_type": "markdown",
   "id": "cf0fb8ad",
   "metadata": {},
   "source": [
    "## Aplications of Random Generators"
   ]
  },
  {
   "cell_type": "code",
   "execution_count": 149,
   "id": "976567fe",
   "metadata": {},
   "outputs": [],
   "source": [
    "a_RG=gen(pcg(seed=365))\n",
    "\n",
    "a1=a_RG.normal(loc=2,scale=3,size=(1000))\n",
    "a2=a_RG.normal(loc=7,scale=2,size=(1000))\n",
    "a3=a_RG.logistic(loc=11,scale=3,size=(1000))\n",
    "a4=a_RG.exponential(scale=4,size=(1000))\n",
    "a5=a_RG.geometric(p=0.7,size=(1000))"
   ]
  },
  {
   "cell_type": "code",
   "execution_count": 168,
   "id": "a252c75f",
   "metadata": {},
   "outputs": [],
   "source": [
    "a_RG=gen(pcg(seed=365))\n",
    "\n",
    "a1=a_RG.normal(loc=3,scale=2,size=(500))\n",
    "a2=a_RG.exponential(scale=5,size=(500))\n",
    "a3=a_RG.logistic(loc=10,scale=4,size=(500))\n"
   ]
  },
  {
   "cell_type": "code",
   "execution_count": 171,
   "id": "4dd2aa50",
   "metadata": {},
   "outputs": [
    {
     "data": {
      "text/plain": [
       "35.04153699695336"
      ]
     },
     "execution_count": 171,
     "metadata": {},
     "output_type": "execute_result"
    }
   ],
   "source": [
    "rtd=np.array([a1,a2,a3]).transpose()\n",
    "rtd.max()"
   ]
  },
  {
   "cell_type": "code",
   "execution_count": 150,
   "id": "5039fd3a",
   "metadata": {},
   "outputs": [
    {
     "data": {
      "text/plain": [
       "array([[ 1.59077303,  6.42174295, 10.14698427,  6.91500737,  1.        ],\n",
       "       [ 2.28243293,  8.57902322, 15.93309953,  6.243605  ,  1.        ],\n",
       "       [ 1.81098674,  5.17270135, -0.46878789,  2.44997251,  1.        ],\n",
       "       ...,\n",
       "       [ 0.1973629 ,  4.3465854 ,  2.66485989,  0.80935387,  1.        ],\n",
       "       [-2.21015722,  8.2176402 , 12.69328115,  0.50644607,  2.        ],\n",
       "       [ 2.91161235,  7.90337695, 11.79840961,  4.86816939,  1.        ]])"
      ]
     },
     "execution_count": 150,
     "metadata": {},
     "output_type": "execute_result"
    }
   ],
   "source": [
    "random_test_data=np.array([a1,a2,a3,a4,a5]).transpose()\n",
    "random_test_data"
   ]
  },
  {
   "cell_type": "code",
   "execution_count": 151,
   "id": "6e9e0f6d",
   "metadata": {},
   "outputs": [
    {
     "data": {
      "text/plain": [
       "(1000, 5)"
      ]
     },
     "execution_count": 151,
     "metadata": {},
     "output_type": "execute_result"
    }
   ],
   "source": [
    "random_test_data.shape"
   ]
  },
  {
   "cell_type": "code",
   "execution_count": 152,
   "id": "b7e8c0a9",
   "metadata": {},
   "outputs": [],
   "source": [
    " np.savetxt('Random_test_from_Numpy.csv',random_test_data,fmt='%s',delimiter=',')"
   ]
  },
  {
   "cell_type": "code",
   "execution_count": 153,
   "id": "1c700d25",
   "metadata": {},
   "outputs": [
    {
     "data": {
      "text/plain": [
       "array([[ 1.59077303,  6.42174295, 10.14698427,  6.91500737,  1.        ],\n",
       "       [ 2.28243293,  8.57902322, 15.93309953,  6.243605  ,  1.        ],\n",
       "       [ 1.81098674,  5.17270135, -0.46878789,  2.44997251,  1.        ],\n",
       "       ...,\n",
       "       [ 0.1973629 ,  4.3465854 ,  2.66485989,  0.80935387,  1.        ],\n",
       "       [-2.21015722,  8.2176402 , 12.69328115,  0.50644607,  2.        ],\n",
       "       [ 2.91161235,  7.90337695, 11.79840961,  4.86816939,  1.        ]])"
      ]
     },
     "execution_count": 153,
     "metadata": {},
     "output_type": "execute_result"
    }
   ],
   "source": [
    "np.genfromtxt('Random_test_from_Numpy.csv',delimiter=',')"
   ]
  },
  {
   "cell_type": "markdown",
   "id": "9f90134f",
   "metadata": {},
   "source": [
    "# Importing Data with numpy"
   ]
  },
  {
   "cell_type": "code",
   "execution_count": 178,
   "id": "518a06a0",
   "metadata": {},
   "outputs": [
    {
     "data": {
      "text/plain": [
       "array([[ 2000.,    40.,   365.,  3121.,  4241., 13621.],\n",
       "       [ 2000.,    40.,   365.,  3061.,  4171., 15041.],\n",
       "       [ 1000.,    40.,   365.,  2160.,  3280., 15340.],\n",
       "       ...,\n",
       "       [ 2000.,    40.,   365.,  4201.,  5001., 16600.],\n",
       "       [ 1000.,    40.,   365.,  2080.,  3320., 15600.],\n",
       "       [ 2000.,    40.,   365.,  4601.,  4601., 16600.]])"
      ]
     },
     "execution_count": 178,
     "metadata": {},
     "output_type": "execute_result"
    }
   ],
   "source": [
    "data_1=np.loadtxt('Lending-Company-Numeric-Data.csv',delimiter=',')\n",
    "data_1"
   ]
  },
  {
   "cell_type": "code",
   "execution_count": 180,
   "id": "9411438d",
   "metadata": {},
   "outputs": [
    {
     "data": {
      "text/plain": [
       "array([[ 2000.,    40.,   365.,  3121.,  4241., 13621.],\n",
       "       [ 2000.,    40.,   365.,  3061.,  4171., 15041.],\n",
       "       [ 1000.,    40.,   365.,  2160.,  3280., 15340.],\n",
       "       ...,\n",
       "       [ 2000.,    40.,   365.,  4201.,  5001., 16600.],\n",
       "       [ 1000.,    40.,   365.,  2080.,  3320., 15600.],\n",
       "       [ 2000.,    40.,   365.,  4601.,  4601., 16600.]])"
      ]
     },
     "execution_count": 180,
     "metadata": {},
     "output_type": "execute_result"
    }
   ],
   "source": [
    "data2=np.genfromtxt('Lending-Company-Numeric-Data.csv',delimiter=',')\n",
    "data2"
   ]
  },
  {
   "cell_type": "code",
   "execution_count": 181,
   "id": "6371f861",
   "metadata": {},
   "outputs": [
    {
     "data": {
      "text/plain": [
       "True"
      ]
     },
     "execution_count": 181,
     "metadata": {},
     "output_type": "execute_result"
    }
   ],
   "source": [
    "np.array_equal(data_1,data2)"
   ]
  },
  {
   "cell_type": "code",
   "execution_count": 187,
   "id": "603fd5a8",
   "metadata": {},
   "outputs": [],
   "source": [
    "# data1nan=np.loadtxt('Lending-Company-Numeric-Data-NAN.csv',delimiter=';')\n",
    "# data1nan"
   ]
  },
  {
   "cell_type": "code",
   "execution_count": 186,
   "id": "7c6304b2",
   "metadata": {},
   "outputs": [
    {
     "name": "stderr",
     "output_type": "stream",
     "text": [
      "C:\\Users\\devgu\\AppData\\Local\\Temp\\ipykernel_4576\\3288018486.py:1: DeprecationWarning: `np.str` is a deprecated alias for the builtin `str`. To silence this warning, use `str` by itself. Doing this will not modify any behavior and is safe. If you specifically wanted the numpy scalar type, use `np.str_` here.\n",
      "Deprecated in NumPy 1.20; for more details and guidance: https://numpy.org/devdocs/release/1.20.0-notes.html#deprecations\n",
      "  data1nan=np.loadtxt('Lending-Company-Numeric-Data-NAN.csv',delimiter=';',dtype=np.str)\n"
     ]
    },
    {
     "data": {
      "text/plain": [
       "array([['2000', '40', '365', '3121', '4241', '13621'],\n",
       "       ['2000', '40', '365', '3061', '4171', '15041'],\n",
       "       ['1000', '40', '365', '2160', '3280', '15340'],\n",
       "       ...,\n",
       "       ['', '40', '365', '4201', '5001', '16600'],\n",
       "       ['1000', '40', '365', '2080', '3320', '15600'],\n",
       "       ['2000', '40', '365', '4601', '4601', '16600']], dtype='<U5')"
      ]
     },
     "execution_count": 186,
     "metadata": {},
     "output_type": "execute_result"
    }
   ],
   "source": [
    "data1nan=np.loadtxt('Lending-Company-Numeric-Data-NAN.csv',delimiter=';',dtype=np.str)\n",
    "data1nan"
   ]
  },
  {
   "cell_type": "code",
   "execution_count": 185,
   "id": "a53c81bd",
   "metadata": {},
   "outputs": [
    {
     "data": {
      "text/plain": [
       "array([[ 2000.,    40.,   365.,  3121.,  4241., 13621.],\n",
       "       [ 2000.,    40.,   365.,  3061.,  4171., 15041.],\n",
       "       [ 1000.,    40.,   365.,  2160.,  3280., 15340.],\n",
       "       ...,\n",
       "       [   nan,    40.,   365.,  4201.,  5001., 16600.],\n",
       "       [ 1000.,    40.,   365.,  2080.,  3320., 15600.],\n",
       "       [ 2000.,    40.,   365.,  4601.,  4601., 16600.]])"
      ]
     },
     "execution_count": 185,
     "metadata": {},
     "output_type": "execute_result"
    }
   ],
   "source": [
    "data2nan=np.genfromtxt('Lending-Company-Numeric-Data-NAN.csv',delimiter=';')\n",
    "data2nan"
   ]
  },
  {
   "cell_type": "code",
   "execution_count": null,
   "id": "36c01862",
   "metadata": {},
   "outputs": [],
   "source": []
  }
 ],
 "metadata": {
  "kernelspec": {
   "display_name": "Python 3 (ipykernel)",
   "language": "python",
   "name": "python3"
  },
  "language_info": {
   "codemirror_mode": {
    "name": "ipython",
    "version": 3
   },
   "file_extension": ".py",
   "mimetype": "text/x-python",
   "name": "python",
   "nbconvert_exporter": "python",
   "pygments_lexer": "ipython3",
   "version": "3.9.13"
  }
 },
 "nbformat": 4,
 "nbformat_minor": 5
}
