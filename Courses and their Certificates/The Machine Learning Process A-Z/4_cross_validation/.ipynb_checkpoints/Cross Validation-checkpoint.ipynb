{
 "cells": [
  {
   "cell_type": "markdown",
   "metadata": {},
   "source": [
    "# Cross-Validation"
   ]
  },
  {
   "cell_type": "code",
   "execution_count": 1,
   "metadata": {},
   "outputs": [],
   "source": [
    "import numpy as np\n",
    "import pandas as pd\n",
    "import matplotlib.pyplot as plt"
   ]
  },
  {
   "cell_type": "markdown",
   "metadata": {},
   "source": [
    "### Load Data"
   ]
  },
  {
   "cell_type": "code",
   "execution_count": 2,
   "metadata": {},
   "outputs": [],
   "source": [
    "df = pd.read_csv(\"PS_20174392719_1491204439457_log.csv\")"
   ]
  },
  {
   "cell_type": "markdown",
   "metadata": {},
   "source": [
    "### Data Pre-processing"
   ]
  },
  {
   "cell_type": "code",
   "execution_count": 7,
   "metadata": {},
   "outputs": [
    {
     "name": "stdout",
     "output_type": "stream",
     "text": [
      "<class 'pandas.core.frame.DataFrame'>\n",
      "RangeIndex: 6362620 entries, 0 to 6362619\n",
      "Data columns (total 11 columns):\n",
      " #   Column          Dtype  \n",
      "---  ------          -----  \n",
      " 0   step            int64  \n",
      " 1   type            object \n",
      " 2   amount          float64\n",
      " 3   nameOrig        object \n",
      " 4   oldbalanceOrg   float64\n",
      " 5   newbalanceOrig  float64\n",
      " 6   nameDest        object \n",
      " 7   oldbalanceDest  float64\n",
      " 8   newbalanceDest  float64\n",
      " 9   isFraud         int64  \n",
      " 10  isFlaggedFraud  int64  \n",
      "dtypes: float64(5), int64(3), object(3)\n",
      "memory usage: 534.0+ MB\n"
     ]
    }
   ],
   "source": [
    "df.info()"
   ]
  },
  {
   "cell_type": "code",
   "execution_count": 5,
   "metadata": {},
   "outputs": [
    {
     "data": {
      "text/html": [
       "<div>\n",
       "<style scoped>\n",
       "    .dataframe tbody tr th:only-of-type {\n",
       "        vertical-align: middle;\n",
       "    }\n",
       "\n",
       "    .dataframe tbody tr th {\n",
       "        vertical-align: top;\n",
       "    }\n",
       "\n",
       "    .dataframe thead th {\n",
       "        text-align: right;\n",
       "    }\n",
       "</style>\n",
       "<table border=\"1\" class=\"dataframe\">\n",
       "  <thead>\n",
       "    <tr style=\"text-align: right;\">\n",
       "      <th></th>\n",
       "      <th>step</th>\n",
       "      <th>type</th>\n",
       "      <th>amount</th>\n",
       "      <th>nameOrig</th>\n",
       "      <th>oldbalanceOrg</th>\n",
       "      <th>newbalanceOrig</th>\n",
       "      <th>nameDest</th>\n",
       "      <th>oldbalanceDest</th>\n",
       "      <th>newbalanceDest</th>\n",
       "      <th>isFraud</th>\n",
       "      <th>isFlaggedFraud</th>\n",
       "    </tr>\n",
       "  </thead>\n",
       "  <tbody>\n",
       "    <tr>\n",
       "      <th>0</th>\n",
       "      <td>1</td>\n",
       "      <td>PAYMENT</td>\n",
       "      <td>9839.64</td>\n",
       "      <td>C1231006815</td>\n",
       "      <td>170136.0</td>\n",
       "      <td>160296.36</td>\n",
       "      <td>M1979787155</td>\n",
       "      <td>0.0</td>\n",
       "      <td>0.0</td>\n",
       "      <td>0</td>\n",
       "      <td>0</td>\n",
       "    </tr>\n",
       "    <tr>\n",
       "      <th>1</th>\n",
       "      <td>1</td>\n",
       "      <td>PAYMENT</td>\n",
       "      <td>1864.28</td>\n",
       "      <td>C1666544295</td>\n",
       "      <td>21249.0</td>\n",
       "      <td>19384.72</td>\n",
       "      <td>M2044282225</td>\n",
       "      <td>0.0</td>\n",
       "      <td>0.0</td>\n",
       "      <td>0</td>\n",
       "      <td>0</td>\n",
       "    </tr>\n",
       "    <tr>\n",
       "      <th>2</th>\n",
       "      <td>1</td>\n",
       "      <td>TRANSFER</td>\n",
       "      <td>181.00</td>\n",
       "      <td>C1305486145</td>\n",
       "      <td>181.0</td>\n",
       "      <td>0.00</td>\n",
       "      <td>C553264065</td>\n",
       "      <td>0.0</td>\n",
       "      <td>0.0</td>\n",
       "      <td>1</td>\n",
       "      <td>0</td>\n",
       "    </tr>\n",
       "    <tr>\n",
       "      <th>3</th>\n",
       "      <td>1</td>\n",
       "      <td>CASH_OUT</td>\n",
       "      <td>181.00</td>\n",
       "      <td>C840083671</td>\n",
       "      <td>181.0</td>\n",
       "      <td>0.00</td>\n",
       "      <td>C38997010</td>\n",
       "      <td>21182.0</td>\n",
       "      <td>0.0</td>\n",
       "      <td>1</td>\n",
       "      <td>0</td>\n",
       "    </tr>\n",
       "    <tr>\n",
       "      <th>4</th>\n",
       "      <td>1</td>\n",
       "      <td>PAYMENT</td>\n",
       "      <td>11668.14</td>\n",
       "      <td>C2048537720</td>\n",
       "      <td>41554.0</td>\n",
       "      <td>29885.86</td>\n",
       "      <td>M1230701703</td>\n",
       "      <td>0.0</td>\n",
       "      <td>0.0</td>\n",
       "      <td>0</td>\n",
       "      <td>0</td>\n",
       "    </tr>\n",
       "  </tbody>\n",
       "</table>\n",
       "</div>"
      ],
      "text/plain": [
       "   step      type    amount     nameOrig  oldbalanceOrg  newbalanceOrig  \\\n",
       "0     1   PAYMENT   9839.64  C1231006815       170136.0       160296.36   \n",
       "1     1   PAYMENT   1864.28  C1666544295        21249.0        19384.72   \n",
       "2     1  TRANSFER    181.00  C1305486145          181.0            0.00   \n",
       "3     1  CASH_OUT    181.00   C840083671          181.0            0.00   \n",
       "4     1   PAYMENT  11668.14  C2048537720        41554.0        29885.86   \n",
       "\n",
       "      nameDest  oldbalanceDest  newbalanceDest  isFraud  isFlaggedFraud  \n",
       "0  M1979787155             0.0             0.0        0               0  \n",
       "1  M2044282225             0.0             0.0        0               0  \n",
       "2   C553264065             0.0             0.0        1               0  \n",
       "3    C38997010         21182.0             0.0        1               0  \n",
       "4  M1230701703             0.0             0.0        0               0  "
      ]
     },
     "execution_count": 5,
     "metadata": {},
     "output_type": "execute_result"
    }
   ],
   "source": [
    "df.head()"
   ]
  },
  {
   "cell_type": "markdown",
   "metadata": {},
   "source": [
    "## Cross Validation"
   ]
  },
  {
   "cell_type": "code",
   "execution_count": 8,
   "metadata": {},
   "outputs": [],
   "source": [
    "features = [\n",
    "    'amount',\n",
    "    'oldbalanceOrg',\n",
    "    'newbalanceOrig',\n",
    "    'oldbalanceDest',\n",
    "    'newbalanceDest'\n",
    "]"
   ]
  },
  {
   "cell_type": "markdown",
   "metadata": {},
   "source": [
    "### Train-Test-Split"
   ]
  },
  {
   "cell_type": "code",
   "execution_count": 9,
   "metadata": {},
   "outputs": [],
   "source": [
    "from sklearn.model_selection import train_test_split"
   ]
  },
  {
   "cell_type": "code",
   "execution_count": 10,
   "metadata": {},
   "outputs": [],
   "source": [
    "X = df[features]\n",
    "y = df['isFraud']\n",
    "\n",
    "X_train, X_test, y_train, y_test = train_test_split(X, y, test_size=0.33, random_state=42)"
   ]
  },
  {
   "cell_type": "code",
   "execution_count": 11,
   "metadata": {},
   "outputs": [
    {
     "data": {
      "text/html": [
       "<div>\n",
       "<style scoped>\n",
       "    .dataframe tbody tr th:only-of-type {\n",
       "        vertical-align: middle;\n",
       "    }\n",
       "\n",
       "    .dataframe tbody tr th {\n",
       "        vertical-align: top;\n",
       "    }\n",
       "\n",
       "    .dataframe thead th {\n",
       "        text-align: right;\n",
       "    }\n",
       "</style>\n",
       "<table border=\"1\" class=\"dataframe\">\n",
       "  <thead>\n",
       "    <tr style=\"text-align: right;\">\n",
       "      <th></th>\n",
       "      <th>amount</th>\n",
       "      <th>oldbalanceOrg</th>\n",
       "      <th>newbalanceOrig</th>\n",
       "      <th>oldbalanceDest</th>\n",
       "      <th>newbalanceDest</th>\n",
       "    </tr>\n",
       "  </thead>\n",
       "  <tbody>\n",
       "    <tr>\n",
       "      <th>1186641</th>\n",
       "      <td>186994.49</td>\n",
       "      <td>4980.00</td>\n",
       "      <td>191974.49</td>\n",
       "      <td>2565463.66</td>\n",
       "      <td>2225790.42</td>\n",
       "    </tr>\n",
       "    <tr>\n",
       "      <th>1199598</th>\n",
       "      <td>86377.61</td>\n",
       "      <td>31480.00</td>\n",
       "      <td>0.00</td>\n",
       "      <td>0.00</td>\n",
       "      <td>86377.61</td>\n",
       "    </tr>\n",
       "    <tr>\n",
       "      <th>1185636</th>\n",
       "      <td>215489.19</td>\n",
       "      <td>21518.00</td>\n",
       "      <td>0.00</td>\n",
       "      <td>6345756.55</td>\n",
       "      <td>6794954.89</td>\n",
       "    </tr>\n",
       "    <tr>\n",
       "      <th>6211424</th>\n",
       "      <td>697319.21</td>\n",
       "      <td>25493.00</td>\n",
       "      <td>0.00</td>\n",
       "      <td>2150239.95</td>\n",
       "      <td>2847559.16</td>\n",
       "    </tr>\n",
       "    <tr>\n",
       "      <th>4452703</th>\n",
       "      <td>59243.58</td>\n",
       "      <td>29879.00</td>\n",
       "      <td>0.00</td>\n",
       "      <td>0.00</td>\n",
       "      <td>0.00</td>\n",
       "    </tr>\n",
       "    <tr>\n",
       "      <th>...</th>\n",
       "      <td>...</td>\n",
       "      <td>...</td>\n",
       "      <td>...</td>\n",
       "      <td>...</td>\n",
       "      <td>...</td>\n",
       "    </tr>\n",
       "    <tr>\n",
       "      <th>1570006</th>\n",
       "      <td>129715.85</td>\n",
       "      <td>5054252.83</td>\n",
       "      <td>5183968.68</td>\n",
       "      <td>246692.94</td>\n",
       "      <td>116977.09</td>\n",
       "    </tr>\n",
       "    <tr>\n",
       "      <th>2234489</th>\n",
       "      <td>2459.70</td>\n",
       "      <td>0.00</td>\n",
       "      <td>0.00</td>\n",
       "      <td>0.00</td>\n",
       "      <td>0.00</td>\n",
       "    </tr>\n",
       "    <tr>\n",
       "      <th>4926484</th>\n",
       "      <td>10579.16</td>\n",
       "      <td>59279.00</td>\n",
       "      <td>48699.84</td>\n",
       "      <td>322754.16</td>\n",
       "      <td>333333.32</td>\n",
       "    </tr>\n",
       "    <tr>\n",
       "      <th>4304572</th>\n",
       "      <td>73020.76</td>\n",
       "      <td>20289.00</td>\n",
       "      <td>0.00</td>\n",
       "      <td>256102.84</td>\n",
       "      <td>329123.61</td>\n",
       "    </tr>\n",
       "    <tr>\n",
       "      <th>1692743</th>\n",
       "      <td>89698.85</td>\n",
       "      <td>196071.00</td>\n",
       "      <td>106372.15</td>\n",
       "      <td>0.00</td>\n",
       "      <td>89698.85</td>\n",
       "    </tr>\n",
       "  </tbody>\n",
       "</table>\n",
       "<p>4262955 rows × 5 columns</p>\n",
       "</div>"
      ],
      "text/plain": [
       "            amount  oldbalanceOrg  newbalanceOrig  oldbalanceDest  \\\n",
       "1186641  186994.49        4980.00       191974.49      2565463.66   \n",
       "1199598   86377.61       31480.00            0.00            0.00   \n",
       "1185636  215489.19       21518.00            0.00      6345756.55   \n",
       "6211424  697319.21       25493.00            0.00      2150239.95   \n",
       "4452703   59243.58       29879.00            0.00            0.00   \n",
       "...            ...            ...             ...             ...   \n",
       "1570006  129715.85     5054252.83      5183968.68       246692.94   \n",
       "2234489    2459.70           0.00            0.00            0.00   \n",
       "4926484   10579.16       59279.00        48699.84       322754.16   \n",
       "4304572   73020.76       20289.00            0.00       256102.84   \n",
       "1692743   89698.85      196071.00       106372.15            0.00   \n",
       "\n",
       "         newbalanceDest  \n",
       "1186641      2225790.42  \n",
       "1199598        86377.61  \n",
       "1185636      6794954.89  \n",
       "6211424      2847559.16  \n",
       "4452703            0.00  \n",
       "...                 ...  \n",
       "1570006       116977.09  \n",
       "2234489            0.00  \n",
       "4926484       333333.32  \n",
       "4304572       329123.61  \n",
       "1692743        89698.85  \n",
       "\n",
       "[4262955 rows x 5 columns]"
      ]
     },
     "execution_count": 11,
     "metadata": {},
     "output_type": "execute_result"
    }
   ],
   "source": [
    "X_train"
   ]
  },
  {
   "cell_type": "markdown",
   "metadata": {},
   "source": [
    "### K-Fold Cross Validation"
   ]
  },
  {
   "cell_type": "code",
   "execution_count": 12,
   "metadata": {},
   "outputs": [],
   "source": [
    "from sklearn.model_selection import KFold"
   ]
  },
  {
   "cell_type": "code",
   "execution_count": 13,
   "metadata": {},
   "outputs": [
    {
     "data": {
      "text/plain": [
       "2"
      ]
     },
     "execution_count": 13,
     "metadata": {},
     "output_type": "execute_result"
    }
   ],
   "source": [
    "kf = KFold(n_splits=2)\n",
    "kf.get_n_splits(X)"
   ]
  },
  {
   "cell_type": "code",
   "execution_count": 32,
   "metadata": {},
   "outputs": [
    {
     "name": "stdout",
     "output_type": "stream",
     "text": [
      "train:          step      type      amount     nameOrig  oldbalanceOrg  \\\n",
      "3181310   239  CASH_OUT    64425.92   C846324167           0.00   \n",
      "3181311   239  CASH_OUT   135675.56   C558686155           0.00   \n",
      "3181312   239  CASH_OUT    80869.52   C181219207           0.00   \n",
      "3181313   239  CASH_OUT    51326.53  C1118966972           0.00   \n",
      "3181314   239   PAYMENT     1827.59  C2146482932       10916.00   \n",
      "...       ...       ...         ...          ...            ...   \n",
      "6362615   743  CASH_OUT   339682.13   C786484425      339682.13   \n",
      "6362616   743  TRANSFER  6311409.28  C1529008245     6311409.28   \n",
      "6362617   743  CASH_OUT  6311409.28  C1162922333     6311409.28   \n",
      "6362618   743  TRANSFER   850002.52  C1685995037      850002.52   \n",
      "6362619   743  CASH_OUT   850002.52  C1280323807      850002.52   \n",
      "\n",
      "         newbalanceOrig     nameDest  oldbalanceDest  newbalanceDest  isFraud  \\\n",
      "3181310            0.00  C2127689854       541170.89       605596.80        0   \n",
      "3181311            0.00  C2094891531       305693.23       441368.80        0   \n",
      "3181312            0.00   C742779484       474674.00       555543.53        0   \n",
      "3181313            0.00  C1575315510        86515.85       137842.38        0   \n",
      "3181314         9088.41   M939884614            0.00            0.00        0   \n",
      "...                 ...          ...             ...             ...      ...   \n",
      "6362615            0.00   C776919290            0.00       339682.13        1   \n",
      "6362616            0.00  C1881841831            0.00            0.00        1   \n",
      "6362617            0.00  C1365125890        68488.84      6379898.11        1   \n",
      "6362618            0.00  C2080388513            0.00            0.00        1   \n",
      "6362619            0.00   C873221189      6510099.11      7360101.63        1   \n",
      "\n",
      "         isFlaggedFraud  \n",
      "3181310               0  \n",
      "3181311               0  \n",
      "3181312               0  \n",
      "3181313               0  \n",
      "3181314               0  \n",
      "...                 ...  \n",
      "6362615               0  \n",
      "6362616               0  \n",
      "6362617               0  \n",
      "6362618               0  \n",
      "6362619               0  \n",
      "\n",
      "[3181310 rows x 11 columns], test:          step      type     amount     nameOrig  oldbalanceOrg  \\\n",
      "0           1   PAYMENT    9839.64  C1231006815      170136.00   \n",
      "1           1   PAYMENT    1864.28  C1666544295       21249.00   \n",
      "2           1  TRANSFER     181.00  C1305486145         181.00   \n",
      "3           1  CASH_OUT     181.00   C840083671         181.00   \n",
      "4           1   PAYMENT   11668.14  C2048537720       41554.00   \n",
      "...       ...       ...        ...          ...            ...   \n",
      "3181305   239  CASH_OUT  382652.45    C95108625       78237.17   \n",
      "3181306   239  CASH_OUT   14243.05  C1373177262           0.00   \n",
      "3181307   239  CASH_OUT  132966.92  C1452844740           0.00   \n",
      "3181308   239  CASH_OUT   75787.30  C2006681147           0.00   \n",
      "3181309   239  CASH_OUT  442387.95   C731673967           0.00   \n",
      "\n",
      "         newbalanceOrig     nameDest  oldbalanceDest  newbalanceDest  isFraud  \\\n",
      "0             160296.36  M1979787155            0.00            0.00        0   \n",
      "1              19384.72  M2044282225            0.00            0.00        0   \n",
      "2                  0.00   C553264065            0.00            0.00        1   \n",
      "3                  0.00    C38997010        21182.00            0.00        1   \n",
      "4              29885.86  M1230701703            0.00            0.00        0   \n",
      "...                 ...          ...             ...             ...      ...   \n",
      "3181305            0.00  C1217098811       992993.60      1375646.05        0   \n",
      "3181306            0.00   C651091127        26313.60        40556.64        0   \n",
      "3181307            0.00  C1893233632      4045771.36      4178738.28        0   \n",
      "3181308            0.00  C1405892220       167103.92       242891.22        0   \n",
      "3181309            0.00  C1131260303       597128.43      1039516.38        0   \n",
      "\n",
      "         isFlaggedFraud  \n",
      "0                     0  \n",
      "1                     0  \n",
      "2                     0  \n",
      "3                     0  \n",
      "4                     0  \n",
      "...                 ...  \n",
      "3181305               0  \n",
      "3181306               0  \n",
      "3181307               0  \n",
      "3181308               0  \n",
      "3181309               0  \n",
      "\n",
      "[3181310 rows x 11 columns]\n",
      "train:          step      type     amount     nameOrig  oldbalanceOrg  \\\n",
      "0           1   PAYMENT    9839.64  C1231006815      170136.00   \n",
      "1           1   PAYMENT    1864.28  C1666544295       21249.00   \n",
      "2           1  TRANSFER     181.00  C1305486145         181.00   \n",
      "3           1  CASH_OUT     181.00   C840083671         181.00   \n",
      "4           1   PAYMENT   11668.14  C2048537720       41554.00   \n",
      "...       ...       ...        ...          ...            ...   \n",
      "3181305   239  CASH_OUT  382652.45    C95108625       78237.17   \n",
      "3181306   239  CASH_OUT   14243.05  C1373177262           0.00   \n",
      "3181307   239  CASH_OUT  132966.92  C1452844740           0.00   \n",
      "3181308   239  CASH_OUT   75787.30  C2006681147           0.00   \n",
      "3181309   239  CASH_OUT  442387.95   C731673967           0.00   \n",
      "\n",
      "         newbalanceOrig     nameDest  oldbalanceDest  newbalanceDest  isFraud  \\\n",
      "0             160296.36  M1979787155            0.00            0.00        0   \n",
      "1              19384.72  M2044282225            0.00            0.00        0   \n",
      "2                  0.00   C553264065            0.00            0.00        1   \n",
      "3                  0.00    C38997010        21182.00            0.00        1   \n",
      "4              29885.86  M1230701703            0.00            0.00        0   \n",
      "...                 ...          ...             ...             ...      ...   \n",
      "3181305            0.00  C1217098811       992993.60      1375646.05        0   \n",
      "3181306            0.00   C651091127        26313.60        40556.64        0   \n",
      "3181307            0.00  C1893233632      4045771.36      4178738.28        0   \n",
      "3181308            0.00  C1405892220       167103.92       242891.22        0   \n",
      "3181309            0.00  C1131260303       597128.43      1039516.38        0   \n",
      "\n",
      "         isFlaggedFraud  \n",
      "0                     0  \n",
      "1                     0  \n",
      "2                     0  \n",
      "3                     0  \n",
      "4                     0  \n",
      "...                 ...  \n",
      "3181305               0  \n",
      "3181306               0  \n",
      "3181307               0  \n",
      "3181308               0  \n",
      "3181309               0  \n",
      "\n",
      "[3181310 rows x 11 columns], test:          step      type      amount     nameOrig  oldbalanceOrg  \\\n",
      "3181310   239  CASH_OUT    64425.92   C846324167           0.00   \n",
      "3181311   239  CASH_OUT   135675.56   C558686155           0.00   \n",
      "3181312   239  CASH_OUT    80869.52   C181219207           0.00   \n",
      "3181313   239  CASH_OUT    51326.53  C1118966972           0.00   \n",
      "3181314   239   PAYMENT     1827.59  C2146482932       10916.00   \n",
      "...       ...       ...         ...          ...            ...   \n",
      "6362615   743  CASH_OUT   339682.13   C786484425      339682.13   \n",
      "6362616   743  TRANSFER  6311409.28  C1529008245     6311409.28   \n",
      "6362617   743  CASH_OUT  6311409.28  C1162922333     6311409.28   \n",
      "6362618   743  TRANSFER   850002.52  C1685995037      850002.52   \n",
      "6362619   743  CASH_OUT   850002.52  C1280323807      850002.52   \n",
      "\n",
      "         newbalanceOrig     nameDest  oldbalanceDest  newbalanceDest  isFraud  \\\n",
      "3181310            0.00  C2127689854       541170.89       605596.80        0   \n",
      "3181311            0.00  C2094891531       305693.23       441368.80        0   \n",
      "3181312            0.00   C742779484       474674.00       555543.53        0   \n",
      "3181313            0.00  C1575315510        86515.85       137842.38        0   \n",
      "3181314         9088.41   M939884614            0.00            0.00        0   \n",
      "...                 ...          ...             ...             ...      ...   \n",
      "6362615            0.00   C776919290            0.00       339682.13        1   \n",
      "6362616            0.00  C1881841831            0.00            0.00        1   \n",
      "6362617            0.00  C1365125890        68488.84      6379898.11        1   \n",
      "6362618            0.00  C2080388513            0.00            0.00        1   \n",
      "6362619            0.00   C873221189      6510099.11      7360101.63        1   \n",
      "\n",
      "         isFlaggedFraud  \n",
      "3181310               0  \n",
      "3181311               0  \n",
      "3181312               0  \n",
      "3181313               0  \n",
      "3181314               0  \n",
      "...                 ...  \n",
      "6362615               0  \n",
      "6362616               0  \n",
      "6362617               0  \n",
      "6362618               0  \n",
      "6362619               0  \n",
      "\n",
      "[3181310 rows x 11 columns]\n"
     ]
    }
   ],
   "source": [
    "folds = {}\n",
    "\n",
    "for train, test in kf.split(X):\n",
    "    ## Logging the fold number\n",
    "    fold_num = 1\n",
    "    \n",
    "    ## Saving the fold number\n",
    "    folds[fold_num] = (df.iloc[train], df.iloc[test])\n",
    "    print('train: %s, test: %s' % (df.iloc[train], df.iloc[test]))\n",
    "    fold_num += 1"
   ]
  },
  {
   "cell_type": "markdown",
   "metadata": {},
   "source": [
    "### Time Series Cross Validation"
   ]
  },
  {
   "cell_type": "code",
   "execution_count": 6,
   "metadata": {},
   "outputs": [],
   "source": [
    "import random\n",
    "import time\n",
    "    \n",
    "def random_datetimes_or_dates(start, end, out_format='datetime', n=10): \n",
    "\n",
    "    '''   \n",
    "    unix timestamp is in ns by default. \n",
    "    I divide the unix time value by 10**9 to make it seconds (or 24*60*60*10**9 to make it days).\n",
    "    The corresponding unit variable is passed to the pd.to_datetime function. \n",
    "    Values for the (divide_by, unit) pair to select is defined by the out_format parameter.\n",
    "    for 1 -> out_format='datetime'\n",
    "    for 2 -> out_format=anything else\n",
    "    '''\n",
    "    (divide_by, unit) = (10**9, 's') if out_format=='datetime' else (24*60*60*10**9, 'D')\n",
    "\n",
    "    start_u = start.value//divide_by\n",
    "    end_u = end.value//divide_by\n",
    "\n",
    "    return pd.to_datetime(np.random.randint(start_u, end_u, n), unit=unit) "
   ]
  },
  {
   "cell_type": "code",
   "execution_count": 48,
   "metadata": {},
   "outputs": [],
   "source": [
    "start = pd.to_datetime('2021-01-01')\n",
    "end = pd.to_datetime('2022-09-01')\n",
    "\n",
    "dates_vals = random_datetimes_or_dates(start, end, out_format='datetime', n=len(df))\n",
    "\n",
    "df['date'] = dates_vals\n",
    "df['date'] = df['date'].apply(lambda x: x.date())"
   ]
  },
  {
   "cell_type": "markdown",
   "metadata": {},
   "source": [
    "### Date Split"
   ]
  },
  {
   "cell_type": "code",
   "execution_count": 46,
   "metadata": {},
   "outputs": [],
   "source": [
    "DATE = '2021-12-31'\n",
    "\n",
    "train_df = df[df['date'] < DATE].copy()\n",
    "test_df = df[df['date'] >= DATE].copy()"
   ]
  },
  {
   "cell_type": "markdown",
   "metadata": {},
   "source": [
    "### Time Series KFold"
   ]
  },
  {
   "cell_type": "code",
   "execution_count": 60,
   "metadata": {},
   "outputs": [
    {
     "name": "stdout",
     "output_type": "stream",
     "text": [
      "TRAIN: [      0       1       2 ... 1060437 1060438 1060439] TEST: [1060440 1060441 1060442 ... 2120873 2120874 2120875]\n",
      "TRAIN: [      0       1       2 ... 2120873 2120874 2120875] TEST: [2120876 2120877 2120878 ... 3181309 3181310 3181311]\n",
      "TRAIN: [      0       1       2 ... 3181309 3181310 3181311] TEST: [3181312 3181313 3181314 ... 4241745 4241746 4241747]\n",
      "TRAIN: [      0       1       2 ... 4241745 4241746 4241747] TEST: [4241748 4241749 4241750 ... 5302181 5302182 5302183]\n",
      "TRAIN: [      0       1       2 ... 5302181 5302182 5302183] TEST: [5302184 5302185 5302186 ... 6362617 6362618 6362619]\n"
     ]
    }
   ],
   "source": [
    "from sklearn.model_selection import TimeSeriesSplit\n",
    "\n",
    "tscv = TimeSeriesSplit()\n",
    "\n",
    "for train_index, test_index in tscv.split(X):\n",
    "        print(\"TRAIN:\", train_index, \"TEST:\", test_index)\n",
    "        X_train, X_test = X.iloc[train_index], X.iloc[test_index]\n",
    "        y_train, y_test = y.iloc[train_index], y.iloc[test_index]"
   ]
  },
  {
   "cell_type": "markdown",
   "metadata": {},
   "source": [
    "### Expanding Window"
   ]
  },
  {
   "cell_type": "code",
   "execution_count": 3,
   "metadata": {},
   "outputs": [],
   "source": [
    "class ExpandingWindowCV:\n",
    "    def __init__(self, date_col, date_range = None, custom_range = None):\n",
    "        self.date_col = date_col\n",
    "        self.date_range = date_range\n",
    "        self.custom_range = custom_range\n",
    "        \n",
    "        if date_range is not None and custom_range is not None:\n",
    "            raise ValueError(\"Date Range and Custom Range both cannot be None.\")\n",
    "    \n",
    "    def split(self, df):\n",
    "        if self.date_range is None:         \n",
    "            dates = list(set(df[self.date_col].astype(str).values))\n",
    "        \n",
    "        if self.date_range is not None:\n",
    "            dates = pd.date_range(start=self.date_range[0], end=self.date_range[1])\n",
    "            dates = [str(d.date()) for d in dates]\n",
    "        \n",
    "        if self.custom_range is not None:\n",
    "            dates = self.custom_range\n",
    "            \n",
    "        for d in dates:\n",
    "            df_train = df[df[self.date_col].astype(str) <= d].copy()\n",
    "            df_test = df[df[self.date_col].astype(str) > d].copy()\n",
    "            yield df_train, df_test"
   ]
  },
  {
   "cell_type": "code",
   "execution_count": 83,
   "metadata": {},
   "outputs": [
    {
     "data": {
      "text/plain": [
       "<generator object ExpandingWindow.split at 0x1601572e0>"
      ]
     },
     "execution_count": 83,
     "metadata": {},
     "output_type": "execute_result"
    }
   ],
   "source": [
    "ew = ExpandingWindowCV()\n",
    "ew.fit(date_col = 'date', date_range = ['2022-01-02','2022-01-08'])\n",
    "ew.split(df)"
   ]
  },
  {
   "cell_type": "markdown",
   "metadata": {},
   "source": [
    "### Monte Carlo Cross Validation"
   ]
  },
  {
   "cell_type": "code",
   "execution_count": 7,
   "metadata": {},
   "outputs": [
    {
     "name": "stdout",
     "output_type": "stream",
     "text": [
      "TRAIN: [2709048 3571212 3854856 ... 2215104 1484405 4500015] TEST: [4644207 3800666 4426240 ... 1073982 2701914 4267490]\n",
      "TRAIN: [2330462 3787202 5883603 ... 1223827 5080219 4649937] TEST: [1041639 2927469 5636415 ... 5408133 2161008 3408050]\n",
      "TRAIN: [4920355 4264750 2193193 ... 2632093 3621905  962318] TEST: [ 581011 1549467 3755681 ... 2072810 3746000  479231]\n",
      "TRAIN: [1586464  469627 2243918 ... 5925382 1533923 4925594] TEST: [2971947 2049983 5821566 ... 1072730 2843610 5701307]\n",
      "TRAIN: [5353038 3842368 4444265 ... 2799028  632353 5982630] TEST: [2081746 1395342  307074 ... 5615815 2871877 6079963]\n"
     ]
    }
   ],
   "source": [
    "from sklearn.model_selection import ShuffleSplit\n",
    "\n",
    "rs = ShuffleSplit(n_splits=5, test_size=.25, random_state=0)\n",
    "rs.get_n_splits(df)\n",
    "\n",
    "for train_index, test_index in rs.split(df):\n",
    "    print(\"TRAIN:\", train_index, \"TEST:\", test_index)"
   ]
  },
  {
   "cell_type": "code",
   "execution_count": null,
   "metadata": {},
   "outputs": [],
   "source": []
  }
 ],
 "metadata": {
  "kernelspec": {
   "display_name": "Python 3",
   "language": "python",
   "name": "python3"
  },
  "language_info": {
   "codemirror_mode": {
    "name": "ipython",
    "version": 3
   },
   "file_extension": ".py",
   "mimetype": "text/x-python",
   "name": "python",
   "nbconvert_exporter": "python",
   "pygments_lexer": "ipython3",
   "version": "3.8.13"
  }
 },
 "nbformat": 4,
 "nbformat_minor": 4
}
